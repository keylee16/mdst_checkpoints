{
 "cells": [
  {
   "cell_type": "markdown",
   "id": "unusual-presentation",
   "metadata": {
    "colab_type": "text",
    "id": "0a8IYAJUshu1"
   },
   "source": [
    "# Exercises"
   ]
  },
  {
   "cell_type": "markdown",
   "id": "alien-chemistry",
   "metadata": {},
   "source": [
    "These exercises are a mix of Python and pandas/EDA practice. Most should be no more than a few lines of code! "
   ]
  },
  {
   "cell_type": "code",
   "execution_count": 15,
   "id": "temporal-peoples",
   "metadata": {
    "colab": {},
    "colab_type": "code",
    "id": "Jo6wuTgkshu1"
   },
   "outputs": [
    {
     "data": {
      "text/plain": [
       "[1, 4, 9, 16, 25, 36]"
      ]
     },
     "execution_count": 15,
     "metadata": {},
     "output_type": "execute_result"
    }
   ],
   "source": [
    "# here is a Python list:\n",
    "\n",
    "a = [1, 2, 3, 4, 5, 6]\n",
    "a\n",
    "\n",
    "# get a list containing the last 3 elements of a\n",
    "a_lastthree = a[-3:]\n",
    "\n",
    "\n",
    "# reverse the list\n",
    "a_reverse = a[::-1]\n",
    "\n",
    "# get a list where each entry in a is squared (so the new list is [1, 4, 9, 16, 25, 36])\n",
    "a_squared = [number**2 for number in a]\n",
    "a_squared"
   ]
  },
  {
   "cell_type": "code",
   "execution_count": 25,
   "id": "foreign-hobby",
   "metadata": {
    "colab": {},
    "colab_type": "code",
    "id": "qANtg5kQshu2"
   },
   "outputs": [],
   "source": [
    "# create a numpy array from this list\n",
    "import numpy as np\n",
    "b = np.array([1, 2, 3, 4, 5, 6]) # change this"
   ]
  },
  {
   "cell_type": "code",
   "execution_count": 26,
   "id": "organic-stupid",
   "metadata": {
    "colab": {},
    "colab_type": "code",
    "id": "91CXRflLshu4"
   },
   "outputs": [
    {
     "data": {
      "text/plain": [
       "3.5"
      ]
     },
     "execution_count": 26,
     "metadata": {},
     "output_type": "execute_result"
    }
   ],
   "source": [
    "# find the mean of b\n",
    "mean_b = np.mean(b)\n",
    "mean_b"
   ]
  },
  {
   "cell_type": "code",
   "execution_count": 27,
   "id": "bright-kinase",
   "metadata": {
    "colab": {},
    "colab_type": "code",
    "id": "ZJZFwzQfshu9"
   },
   "outputs": [
    {
     "data": {
      "text/plain": [
       "array([ 1,  4,  9, 16, 25, 36])"
      ]
     },
     "execution_count": 27,
     "metadata": {},
     "output_type": "execute_result"
    }
   ],
   "source": [
    "# get a list where each entry in b is squared (so the new numpy array is [1, 4, 9, 16, 25, 36])\n",
    "# use a different (numpy-specific) approach\n",
    "b_squared = np.square(b)\n",
    "b_squared"
   ]
  },
  {
   "cell_type": "code",
   "execution_count": 34,
   "id": "universal-trance",
   "metadata": {
    "colab": {},
    "colab_type": "code",
    "id": "ajbA5rCCshu5"
   },
   "outputs": [
    {
     "data": {
      "text/plain": [
       "array([[1, 2, 3],\n",
       "       [4, 5, 6]])"
      ]
     },
     "execution_count": 34,
     "metadata": {},
     "output_type": "execute_result"
    }
   ],
   "source": [
    "# change b from a length-6 list to a 2x3 matrix\n",
    "b_matrix = np.reshape(b, (2,3))\n",
    "b_matrix"
   ]
  },
  {
   "cell_type": "code",
   "execution_count": 35,
   "id": "visible-reading",
   "metadata": {
    "colab": {},
    "colab_type": "code",
    "id": "wancU_PWshu6"
   },
   "outputs": [
    {
     "data": {
      "text/plain": [
       "array([2., 5.])"
      ]
     },
     "execution_count": 35,
     "metadata": {},
     "output_type": "execute_result"
    }
   ],
   "source": [
    "# find the mean value of each row\n",
    "row_means = b_matrix.mean(axis = 1)\n",
    "row_means"
   ]
  },
  {
   "cell_type": "code",
   "execution_count": 36,
   "id": "prompt-breed",
   "metadata": {
    "colab": {},
    "colab_type": "code",
    "id": "N3hXBrBtshu7"
   },
   "outputs": [
    {
     "data": {
      "text/plain": [
       "array([2.5, 3.5, 4.5])"
      ]
     },
     "execution_count": 36,
     "metadata": {},
     "output_type": "execute_result"
    }
   ],
   "source": [
    "# find the mean value of each column\n",
    "column_means = b_matrix.mean(axis = 0)\n",
    "column_means"
   ]
  },
  {
   "cell_type": "code",
   "execution_count": 43,
   "id": "round-buffer",
   "metadata": {
    "colab": {},
    "colab_type": "code",
    "id": "GvbO8gBXshu8"
   },
   "outputs": [
    {
     "data": {
      "text/plain": [
       "array([3, 6])"
      ]
     },
     "execution_count": 43,
     "metadata": {},
     "output_type": "execute_result"
    }
   ],
   "source": [
    "# find the third column of b\n",
    "b_matrix[:,2]"
   ]
  },
  {
   "cell_type": "code",
   "execution_count": 46,
   "id": "distinguished-clause",
   "metadata": {
    "colab": {},
    "colab_type": "code",
    "id": "WzCQ5HOJshvA"
   },
   "outputs": [
    {
     "data": {
      "text/html": [
       "<div>\n",
       "<style scoped>\n",
       "    .dataframe tbody tr th:only-of-type {\n",
       "        vertical-align: middle;\n",
       "    }\n",
       "\n",
       "    .dataframe tbody tr th {\n",
       "        vertical-align: top;\n",
       "    }\n",
       "\n",
       "    .dataframe thead th {\n",
       "        text-align: right;\n",
       "    }\n",
       "</style>\n",
       "<table border=\"1\" class=\"dataframe\">\n",
       "  <thead>\n",
       "    <tr style=\"text-align: right;\">\n",
       "      <th></th>\n",
       "      <th>Unnamed: 0</th>\n",
       "      <th>beverage category</th>\n",
       "      <th>beverage</th>\n",
       "      <th>beverage_prep</th>\n",
       "      <th>calories</th>\n",
       "      <th>total fat</th>\n",
       "      <th>trans fat</th>\n",
       "      <th>saturated fat</th>\n",
       "      <th>sodium</th>\n",
       "      <th>total carbohydrates</th>\n",
       "      <th>cholesterol</th>\n",
       "      <th>dietary fibre</th>\n",
       "      <th>sugars</th>\n",
       "      <th>protein</th>\n",
       "      <th>vitamin a</th>\n",
       "      <th>vitamin c</th>\n",
       "      <th>calcium</th>\n",
       "      <th>iron</th>\n",
       "      <th>caffeine</th>\n",
       "    </tr>\n",
       "  </thead>\n",
       "  <tbody>\n",
       "    <tr>\n",
       "      <th>0</th>\n",
       "      <td>0</td>\n",
       "      <td>coffee</td>\n",
       "      <td>brewed coffee</td>\n",
       "      <td>Short</td>\n",
       "      <td>3</td>\n",
       "      <td>0.1</td>\n",
       "      <td>0.0</td>\n",
       "      <td>0.0</td>\n",
       "      <td>0</td>\n",
       "      <td>5</td>\n",
       "      <td>0</td>\n",
       "      <td>0</td>\n",
       "      <td>0</td>\n",
       "      <td>0.3</td>\n",
       "      <td>0.0</td>\n",
       "      <td>0.0</td>\n",
       "      <td>0.0</td>\n",
       "      <td>0.0</td>\n",
       "      <td>175.0</td>\n",
       "    </tr>\n",
       "    <tr>\n",
       "      <th>1</th>\n",
       "      <td>1</td>\n",
       "      <td>coffee</td>\n",
       "      <td>brewed coffee</td>\n",
       "      <td>Tall</td>\n",
       "      <td>4</td>\n",
       "      <td>0.1</td>\n",
       "      <td>0.0</td>\n",
       "      <td>0.0</td>\n",
       "      <td>0</td>\n",
       "      <td>10</td>\n",
       "      <td>0</td>\n",
       "      <td>0</td>\n",
       "      <td>0</td>\n",
       "      <td>0.5</td>\n",
       "      <td>0.0</td>\n",
       "      <td>0.0</td>\n",
       "      <td>0.0</td>\n",
       "      <td>0.0</td>\n",
       "      <td>260.0</td>\n",
       "    </tr>\n",
       "    <tr>\n",
       "      <th>2</th>\n",
       "      <td>2</td>\n",
       "      <td>coffee</td>\n",
       "      <td>brewed coffee</td>\n",
       "      <td>Grande</td>\n",
       "      <td>5</td>\n",
       "      <td>0.1</td>\n",
       "      <td>0.0</td>\n",
       "      <td>0.0</td>\n",
       "      <td>0</td>\n",
       "      <td>10</td>\n",
       "      <td>0</td>\n",
       "      <td>0</td>\n",
       "      <td>0</td>\n",
       "      <td>1.0</td>\n",
       "      <td>0.0</td>\n",
       "      <td>0.0</td>\n",
       "      <td>0.0</td>\n",
       "      <td>0.0</td>\n",
       "      <td>330.0</td>\n",
       "    </tr>\n",
       "    <tr>\n",
       "      <th>3</th>\n",
       "      <td>3</td>\n",
       "      <td>coffee</td>\n",
       "      <td>brewed coffee</td>\n",
       "      <td>Venti</td>\n",
       "      <td>5</td>\n",
       "      <td>0.1</td>\n",
       "      <td>0.0</td>\n",
       "      <td>0.0</td>\n",
       "      <td>0</td>\n",
       "      <td>10</td>\n",
       "      <td>0</td>\n",
       "      <td>0</td>\n",
       "      <td>0</td>\n",
       "      <td>1.0</td>\n",
       "      <td>0.0</td>\n",
       "      <td>0.0</td>\n",
       "      <td>2.0</td>\n",
       "      <td>0.0</td>\n",
       "      <td>410.0</td>\n",
       "    </tr>\n",
       "    <tr>\n",
       "      <th>4</th>\n",
       "      <td>4</td>\n",
       "      <td>classic espresso drinks</td>\n",
       "      <td>cafflatte</td>\n",
       "      <td>Short Nonfat Milk</td>\n",
       "      <td>70</td>\n",
       "      <td>0.1</td>\n",
       "      <td>0.1</td>\n",
       "      <td>0.0</td>\n",
       "      <td>5</td>\n",
       "      <td>75</td>\n",
       "      <td>10</td>\n",
       "      <td>0</td>\n",
       "      <td>9</td>\n",
       "      <td>6.0</td>\n",
       "      <td>10.0</td>\n",
       "      <td>0.0</td>\n",
       "      <td>20.0</td>\n",
       "      <td>0.0</td>\n",
       "      <td>75.0</td>\n",
       "    </tr>\n",
       "    <tr>\n",
       "      <th>...</th>\n",
       "      <td>...</td>\n",
       "      <td>...</td>\n",
       "      <td>...</td>\n",
       "      <td>...</td>\n",
       "      <td>...</td>\n",
       "      <td>...</td>\n",
       "      <td>...</td>\n",
       "      <td>...</td>\n",
       "      <td>...</td>\n",
       "      <td>...</td>\n",
       "      <td>...</td>\n",
       "      <td>...</td>\n",
       "      <td>...</td>\n",
       "      <td>...</td>\n",
       "      <td>...</td>\n",
       "      <td>...</td>\n",
       "      <td>...</td>\n",
       "      <td>...</td>\n",
       "      <td>...</td>\n",
       "    </tr>\n",
       "    <tr>\n",
       "      <th>215</th>\n",
       "      <td>237</td>\n",
       "      <td>frappuccinoblended crme</td>\n",
       "      <td>strawberries crme without whipped cream</td>\n",
       "      <td>Soymilk</td>\n",
       "      <td>320</td>\n",
       "      <td>3.2</td>\n",
       "      <td>0.4</td>\n",
       "      <td>0.0</td>\n",
       "      <td>0</td>\n",
       "      <td>250</td>\n",
       "      <td>67</td>\n",
       "      <td>1</td>\n",
       "      <td>64</td>\n",
       "      <td>5.0</td>\n",
       "      <td>6.0</td>\n",
       "      <td>8.0</td>\n",
       "      <td>20.0</td>\n",
       "      <td>10.0</td>\n",
       "      <td>0.0</td>\n",
       "    </tr>\n",
       "    <tr>\n",
       "      <th>216</th>\n",
       "      <td>238</td>\n",
       "      <td>frappuccinoblended crme</td>\n",
       "      <td>vanilla bean without whipped cream</td>\n",
       "      <td>Tall Nonfat Milk</td>\n",
       "      <td>170</td>\n",
       "      <td>0.1</td>\n",
       "      <td>0.1</td>\n",
       "      <td>0.0</td>\n",
       "      <td>0</td>\n",
       "      <td>160</td>\n",
       "      <td>39</td>\n",
       "      <td>0</td>\n",
       "      <td>38</td>\n",
       "      <td>4.0</td>\n",
       "      <td>6.0</td>\n",
       "      <td>0.0</td>\n",
       "      <td>10.0</td>\n",
       "      <td>0.0</td>\n",
       "      <td>0.0</td>\n",
       "    </tr>\n",
       "    <tr>\n",
       "      <th>217</th>\n",
       "      <td>239</td>\n",
       "      <td>frappuccinoblended crme</td>\n",
       "      <td>vanilla bean without whipped cream</td>\n",
       "      <td>Whole Milk</td>\n",
       "      <td>200</td>\n",
       "      <td>3.5</td>\n",
       "      <td>2.0</td>\n",
       "      <td>0.1</td>\n",
       "      <td>10</td>\n",
       "      <td>160</td>\n",
       "      <td>39</td>\n",
       "      <td>0</td>\n",
       "      <td>38</td>\n",
       "      <td>3.0</td>\n",
       "      <td>6.0</td>\n",
       "      <td>0.0</td>\n",
       "      <td>10.0</td>\n",
       "      <td>0.0</td>\n",
       "      <td>0.0</td>\n",
       "    </tr>\n",
       "    <tr>\n",
       "      <th>218</th>\n",
       "      <td>240</td>\n",
       "      <td>frappuccinoblended crme</td>\n",
       "      <td>vanilla bean without whipped cream</td>\n",
       "      <td>Soymilk</td>\n",
       "      <td>180</td>\n",
       "      <td>1.5</td>\n",
       "      <td>0.2</td>\n",
       "      <td>0.0</td>\n",
       "      <td>0</td>\n",
       "      <td>160</td>\n",
       "      <td>37</td>\n",
       "      <td>1</td>\n",
       "      <td>35</td>\n",
       "      <td>3.0</td>\n",
       "      <td>4.0</td>\n",
       "      <td>0.0</td>\n",
       "      <td>10.0</td>\n",
       "      <td>6.0</td>\n",
       "      <td>0.0</td>\n",
       "    </tr>\n",
       "    <tr>\n",
       "      <th>219</th>\n",
       "      <td>241</td>\n",
       "      <td>frappuccinoblended crme</td>\n",
       "      <td>vanilla bean without whipped cream</td>\n",
       "      <td>Grande Nonfat Milk</td>\n",
       "      <td>240</td>\n",
       "      <td>0.1</td>\n",
       "      <td>0.1</td>\n",
       "      <td>0.0</td>\n",
       "      <td>5</td>\n",
       "      <td>230</td>\n",
       "      <td>56</td>\n",
       "      <td>0</td>\n",
       "      <td>55</td>\n",
       "      <td>5.0</td>\n",
       "      <td>8.0</td>\n",
       "      <td>0.0</td>\n",
       "      <td>15.0</td>\n",
       "      <td>0.0</td>\n",
       "      <td>0.0</td>\n",
       "    </tr>\n",
       "  </tbody>\n",
       "</table>\n",
       "<p>220 rows × 19 columns</p>\n",
       "</div>"
      ],
      "text/plain": [
       "     Unnamed: 0        beverage category  \\\n",
       "0             0                   coffee   \n",
       "1             1                   coffee   \n",
       "2             2                   coffee   \n",
       "3             3                   coffee   \n",
       "4             4  classic espresso drinks   \n",
       "..          ...                      ...   \n",
       "215         237  frappuccinoblended crme   \n",
       "216         238  frappuccinoblended crme   \n",
       "217         239  frappuccinoblended crme   \n",
       "218         240  frappuccinoblended crme   \n",
       "219         241  frappuccinoblended crme   \n",
       "\n",
       "                                    beverage       beverage_prep  calories  \\\n",
       "0                              brewed coffee               Short         3   \n",
       "1                              brewed coffee                Tall         4   \n",
       "2                              brewed coffee              Grande         5   \n",
       "3                              brewed coffee               Venti         5   \n",
       "4                                  cafflatte   Short Nonfat Milk        70   \n",
       "..                                       ...                 ...       ...   \n",
       "215  strawberries crme without whipped cream             Soymilk       320   \n",
       "216       vanilla bean without whipped cream    Tall Nonfat Milk       170   \n",
       "217       vanilla bean without whipped cream          Whole Milk       200   \n",
       "218       vanilla bean without whipped cream             Soymilk       180   \n",
       "219       vanilla bean without whipped cream  Grande Nonfat Milk       240   \n",
       "\n",
       "     total fat  trans fat  saturated fat   sodium  total carbohydrates  \\\n",
       "0          0.1        0.0            0.0        0                    5   \n",
       "1          0.1        0.0            0.0        0                   10   \n",
       "2          0.1        0.0            0.0        0                   10   \n",
       "3          0.1        0.0            0.0        0                   10   \n",
       "4          0.1        0.1            0.0        5                   75   \n",
       "..         ...        ...            ...      ...                  ...   \n",
       "215        3.2        0.4            0.0        0                  250   \n",
       "216        0.1        0.1            0.0        0                  160   \n",
       "217        3.5        2.0            0.1       10                  160   \n",
       "218        1.5        0.2            0.0        0                  160   \n",
       "219        0.1        0.1            0.0        5                  230   \n",
       "\n",
       "     cholesterol  dietary fibre  sugars  protein  vitamin a  vitamin c  \\\n",
       "0              0              0       0      0.3        0.0        0.0   \n",
       "1              0              0       0      0.5        0.0        0.0   \n",
       "2              0              0       0      1.0        0.0        0.0   \n",
       "3              0              0       0      1.0        0.0        0.0   \n",
       "4             10              0       9      6.0       10.0        0.0   \n",
       "..           ...            ...     ...      ...        ...        ...   \n",
       "215           67              1      64      5.0        6.0        8.0   \n",
       "216           39              0      38      4.0        6.0        0.0   \n",
       "217           39              0      38      3.0        6.0        0.0   \n",
       "218           37              1      35      3.0        4.0        0.0   \n",
       "219           56              0      55      5.0        8.0        0.0   \n",
       "\n",
       "     calcium  iron  caffeine  \n",
       "0        0.0   0.0     175.0  \n",
       "1        0.0   0.0     260.0  \n",
       "2        0.0   0.0     330.0  \n",
       "3        2.0   0.0     410.0  \n",
       "4       20.0   0.0      75.0  \n",
       "..       ...   ...       ...  \n",
       "215     20.0  10.0       0.0  \n",
       "216     10.0   0.0       0.0  \n",
       "217     10.0   0.0       0.0  \n",
       "218     10.0   6.0       0.0  \n",
       "219     15.0   0.0       0.0  \n",
       "\n",
       "[220 rows x 19 columns]"
      ]
     },
     "execution_count": 46,
     "metadata": {},
     "output_type": "execute_result"
    }
   ],
   "source": [
    "# load in the \"starbucks_clean.csv\" dataset\n",
    "import pandas as pd\n",
    "df = pd.read_csv('../data/starbucks_clean.csv')\n",
    "df"
   ]
  },
  {
   "cell_type": "code",
   "execution_count": 126,
   "id": "global-clothing",
   "metadata": {
    "colab": {},
    "colab_type": "code",
    "id": "rIoxaSxHshvB"
   },
   "outputs": [
    {
     "data": {
      "text/plain": [
       "201.0772727272727"
      ]
     },
     "execution_count": 126,
     "metadata": {},
     "output_type": "execute_result"
    }
   ],
   "source": [
    "# this is nutritional info for starbucks items\n",
    "# let's see if we can answer some questions\n",
    "\n",
    "# what is the average # calories across all items?\n",
    "df['calories'].mean()"
   ]
  },
  {
   "cell_type": "code",
   "execution_count": 127,
   "id": "shaped-paris",
   "metadata": {
    "colab": {},
    "colab_type": "code",
    "id": "ABX7i49FshvD"
   },
   "outputs": [
    {
     "data": {
      "text/plain": [
       "9"
      ]
     },
     "execution_count": 127,
     "metadata": {},
     "output_type": "execute_result"
    }
   ],
   "source": [
    "# how many different categories of beverages are there?\n",
    "df['beverage category'].drop_duplicates().count()"
   ]
  },
  {
   "cell_type": "code",
   "execution_count": 219,
   "id": "organic-encyclopedia",
   "metadata": {
    "colab": {},
    "colab_type": "code",
    "id": "P9QatZAzshvE"
   },
   "outputs": [
    {
     "data": {
      "text/plain": [
       "beverage category\n",
       "classic espresso drinks            140.172414\n",
       "coffee                               4.250000\n",
       "frappuccinoblended coffee          276.944444\n",
       "frappuccinoblended crme            233.076923\n",
       "frappuccinolight blended coffee    162.500000\n",
       "shaken iced beverages              110.769231\n",
       "signature espresso drinks          250.000000\n",
       "smoothies                          282.500000\n",
       "tazotea drinks                     206.666667\n",
       "Name: calories, dtype: float64"
      ]
     },
     "execution_count": 219,
     "metadata": {},
     "output_type": "execute_result"
    }
   ],
   "source": [
    "# what is the average # calories for each beverage category?\n",
    "df.groupby('beverage category').calories.mean()"
   ]
  },
  {
   "cell_type": "code",
   "execution_count": 218,
   "id": "enhanced-prior",
   "metadata": {
    "colab": {},
    "colab_type": "code",
    "id": "y8KEpYNkshvG"
   },
   "outputs": [
    {
     "data": {
      "text/plain": [
       "'Whole Milk'"
      ]
     },
     "execution_count": 218,
     "metadata": {},
     "output_type": "execute_result"
    }
   ],
   "source": [
    "# what beverage preparation includes the most sugar on average?\n",
    "df.groupby('beverage_prep').sugars.mean().idxmax()"
   ]
  },
  {
   "cell_type": "code",
   "execution_count": 130,
   "id": "academic-unknown",
   "metadata": {
    "colab": {},
    "colab_type": "code",
    "id": "MnbCEJw8shvH"
   },
   "outputs": [
    {
     "data": {
      "text/plain": [
       "beverage\n",
       "banana chocolate smoothie                      20.000000\n",
       "brewed coffee                                   0.500000\n",
       "caffamericano                                   1.500000\n",
       "cafflatte                                      35.000000\n",
       "caffmocha without whipped cream                30.000000\n",
       "cappuccino                                     22.500000\n",
       "caramel                                        11.000000\n",
       "caramel apple spice without whipped cream       0.000000\n",
       "caramel macchiato                              28.333333\n",
       "caramel without whipped cream                  12.000000\n",
       "coffee                                         12.333333\n",
       "espresso                                        0.000000\n",
       "hot chocolate without whipped cream            35.000000\n",
       "iced brewed coffee with classic syrup           0.000000\n",
       "iced brewed coffee with milk classic syrup      8.000000\n",
       "java chip                                      11.666667\n",
       "java chip without whipped cream                12.555556\n",
       "mocha                                          11.000000\n",
       "mocha without whipped cream                    12.000000\n",
       "orange mango banana smoothie                   10.000000\n",
       "shaken iced tazotea with classic syrup          0.000000\n",
       "skinny latte any flavour                       33.750000\n",
       "strawberries crme without whipped cream        15.000000\n",
       "strawberry banana smoothie                     10.000000\n",
       "tazochai tea latte                             21.666667\n",
       "tazofullleaf red tea latte vanilla rooibos     20.833333\n",
       "tazogreen tea latte                            39.166667\n",
       "vanilla bean without whipped cream             11.250000\n",
       "vanilla latte or other flavoured latte         32.916667\n",
       "white chocolate mocha without whipped cream    41.250000\n",
       "Name: calcium, dtype: float64"
      ]
     },
     "execution_count": 130,
     "metadata": {},
     "output_type": "execute_result"
    }
   ],
   "source": [
    "# what is the average % daily value calcium content for each beverage?\n",
    "df.groupby('beverage').calcium.mean()"
   ]
  },
  {
   "cell_type": "code",
   "execution_count": 220,
   "id": "changing-norman",
   "metadata": {
    "colab": {},
    "colab_type": "code",
    "id": "Nv5dksj_shvJ"
   },
   "outputs": [
    {
     "data": {
      "text/plain": [
       "'brewed coffee'"
      ]
     },
     "execution_count": 220,
     "metadata": {},
     "output_type": "execute_result"
    }
   ],
   "source": [
    "# It's bulking season. What drink should Naitian get so that he maximizes protein but minimizes calories?\n",
    "# (you can use more than one line for this one)\n",
    "# there are multiple valid approaches you can take for this (with different answers)\n",
    "# I know that you want more calories for bulking season but whatever this is MDST, not Michigan Muscle Club okay\n",
    "df['protein_per_calories'] = df['protein'] / df['calories']\n",
    "df.groupby('beverage').protein_per_calories.mean().idxmax() #Naitain should get brewed coffee"
   ]
  },
  {
   "cell_type": "code",
   "execution_count": 165,
   "id": "addressed-royalty",
   "metadata": {},
   "outputs": [
    {
     "data": {
      "image/png": "[encoded data removed]",
      "text/plain": [
       "<Figure size 432x288 with 1 Axes>"
      ]
     },
     "metadata": {
      "needs_background": "light"
     },
     "output_type": "display_data"
    }
   ],
   "source": [
    "# plot the distribution of the number of calories in drinks using matplotlib\n",
    "import matplotlib.pyplot as plt\n",
    "x = df['beverage']\n",
    "y = df['calories']\n",
    "plt.plot(x,y)\n",
    "plt.title(\"Number of Calories\")\n",
    "plt.xlabel(\"Types of beverage\")\n",
    "plt.ylabel(\"# of calories\")\n",
    "plt.show()"
   ]
  },
  {
   "cell_type": "code",
   "execution_count": 168,
   "id": "efficient-garbage",
   "metadata": {},
   "outputs": [
    {
     "data": {
      "text/plain": [
       "<seaborn.axisgrid.FacetGrid at 0x7fe9b3792bb0>"
      ]
     },
     "execution_count": 168,
     "metadata": {},
     "output_type": "execute_result"
    },
    {
     "data": {
      "image/png": "[encoded data removed]",
      "text/plain": [
       "<Figure size 360x360 with 1 Axes>"
      ]
     },
     "metadata": {
      "needs_background": "light"
     },
     "output_type": "display_data"
    }
   ],
   "source": [
    "# plot the same distribution using seaborn. what about a density plot instead?\n",
    "import seaborn as sns\n",
    "sns.relplot(x='beverage', y='calories', data = df)"
   ]
  },
  {
   "cell_type": "code",
   "execution_count": 174,
   "id": "duplicate-testing",
   "metadata": {},
   "outputs": [
    {
     "data": {
      "text/plain": [
       "<AxesSubplot:xlabel='calories', ylabel='Density'>"
      ]
     },
     "execution_count": 174,
     "metadata": {},
     "output_type": "execute_result"
    },
    {
     "data": {
      "image/png": "[encoded data removed]",
      "text/plain": [
       "<Figure size 432x288 with 1 Axes>"
      ]
     },
     "metadata": {
      "needs_background": "light"
     },
     "output_type": "display_data"
    }
   ],
   "source": [
    "sns.distplot(df['calories'])"
   ]
  },
  {
   "cell_type": "code",
   "execution_count": 176,
   "id": "chicken-aluminum",
   "metadata": {},
   "outputs": [
    {
     "data": {
      "text/plain": [
       "<seaborn.axisgrid.FacetGrid at 0x7fe97ef01fa0>"
      ]
     },
     "execution_count": 176,
     "metadata": {},
     "output_type": "execute_result"
    },
    {
     "data": {
      "image/png": "[encoded data removed]",
      "text/plain": [
       "<Figure size 360x360 with 1 Axes>"
      ]
     },
     "metadata": {
      "needs_background": "light"
     },
     "output_type": "display_data"
    }
   ],
   "source": [
    "# plot calories against total fat using seaborn\n",
    "sns.relplot(x='calories', y='total fat', data = df)"
   ]
  },
  {
   "cell_type": "code",
   "execution_count": 216,
   "id": "involved-fighter",
   "metadata": {},
   "outputs": [
    {
     "data": {
      "text/plain": [
       "<AxesSubplot:xlabel='beverage', ylabel='calories'>"
      ]
     },
     "execution_count": 216,
     "metadata": {},
     "output_type": "execute_result"
    },
    {
     "data": {
      "image/png": "[encoded data removed]",
      "text/plain": [
       "<Figure size 432x288 with 1 Axes>"
      ]
     },
     "metadata": {
      "needs_background": "light"
     },
     "output_type": "display_data"
    }
   ],
   "source": [
    "# plot the distribution of calories in Short, Tall, Grande, and Venti drinks\n",
    "# (you can use multiple lines for this)\n",
    "# twist: you should also include the Nonfat Milk drinks that also have an associated size.\n",
    "\n",
    "# you can decide how you want to visualize this. Colors? Small multiples? Density vs histogram?\n",
    "# the starbucks is your oyster.\n",
    "\n",
    "#sns.relplot(x='beverage_prep', y='calories', data = df)\n",
    "Short_drink = df[df['beverage_prep'].str.contains('Short') == True]\n",
    "Tall_drink = df[df['beverage_prep'].str.contains('Tall') == True]\n",
    "Grande_drink = df[df['beverage_prep'].str.contains('Grande') == True]\n",
    "Venti_drink = df[df['beverage_prep'].str.contains('Venti') == True]\n",
    "sns.lineplot(x='beverage', y='calories', data = Short_drink, color = 'blue')\n",
    "sns.lineplot(x='beverage', y='calories', data = Tall_drink, color = 'orange')\n",
    "sns.lineplot(x='beverage', y='calories', data = Grande_drink, color = 'green')\n",
    "sns.lineplot(x='beverage', y='calories', data = Venti_drink, color = 'red')"
   ]
  },
  {
   "cell_type": "code",
   "execution_count": null,
   "id": "outdoor-context",
   "metadata": {},
   "outputs": [],
   "source": []
  }
 ],
 "metadata": {
  "kernelspec": {
   "display_name": "Python 3",
   "language": "python",
   "name": "python3"
  },
  "language_info": {
   "codemirror_mode": {
    "name": "ipython",
    "version": 3
   },
   "file_extension": ".py",
   "mimetype": "text/x-python",
   "name": "python",
   "nbconvert_exporter": "python",
   "pygments_lexer": "ipython3",
   "version": "3.8.5"
  }
 },
 "nbformat": 4,
 "nbformat_minor": 5
}
