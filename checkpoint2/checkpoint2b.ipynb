{
 "cells": [
  {
   "cell_type": "markdown",
   "metadata": {},
   "source": [
    "<h1> The Challenge:</h1>\n",
    "\n",
    "Based off this dataset with school financial, enrollment, and achievement data, we are interested in what information is a useful indicator of student performance at the state level.\n",
    "\n",
    "This question is a bit too big for a checkpoint, however. Instead, we want you to look at smaller questions related to our overall goal. Here's the overview:\n",
    "\n",
    "1. Choose a specific test to focus on\n",
    ">Math/Reading for 4/8 grade\n",
    "* Pick or create features to use\n",
    ">Will all the features be useful in predicting test score? Are some more important than others? Should you standardize, bin, or scale the data?\n",
    "* Explore the data as it relates to that test\n",
    ">Create 2 well-labeled visualizations (graphs), each with a caption describing the graph and what it tells us about the data\n",
    "* Create training and testing data\n",
    ">Do you want to train on all the data? Only data from the last 10 years? Only Michigan data?\n",
    "* Train a ML model to predict outcome \n",
    ">Pick if you want to do a regression or classification task. For both cases, defined _exactly_ what you want to predict, and pick any model in sklearn to use (see sklearn <a href=\"https://scikit-learn.org/stable/modules/linear_model.html\">regressors</a> and <a href=\"https://scikit-learn.org/stable/auto_examples/classification/plot_classifier_comparison.html\">classifiers</a>).\n",
    "* Summarize your findings\n",
    ">Write a 1 paragraph summary of what you did and make a recommendation about if and how student performance can be predicted\n",
    "\n",
    "** Include comments throughout your code! Every cleanup and preprocessing task should be documented.\n",
    "\n",
    "\n",
    "Of course, if you're finding this assignment interesting (and we really hope you do!), you are welcome to do more than the requirements! For example, you may want to see if expenditure affects 4th graders more than 8th graders. Maybe you want to look into the extended version of this dataset and see how factors like sex and race are involved. You can include all your work in this notebook when you turn it in -- just always make sure you explain what you did and interpret your results. Good luck!"
   ]
  },
  {
   "cell_type": "code",
   "execution_count": 1,
   "metadata": {},
   "outputs": [],
   "source": [
    "import pandas as pd\n",
    "import numpy as np\n",
    "import matplotlib.pyplot as plt\n",
    "import seaborn as sns\n",
    "\n",
    "# feel free to import other libraries! "
   ]
  },
  {
   "cell_type": "code",
   "execution_count": 2,
   "metadata": {},
   "outputs": [],
   "source": [
    "df = pd.read_csv('../data/states_edu.csv')"
   ]
  },
  {
   "cell_type": "code",
   "execution_count": 3,
   "metadata": {},
   "outputs": [
    {
     "data": {
      "text/html": [
       "<div>\n",
       "<style scoped>\n",
       "    .dataframe tbody tr th:only-of-type {\n",
       "        vertical-align: middle;\n",
       "    }\n",
       "\n",
       "    .dataframe tbody tr th {\n",
       "        vertical-align: top;\n",
       "    }\n",
       "\n",
       "    .dataframe thead th {\n",
       "        text-align: right;\n",
       "    }\n",
       "</style>\n",
       "<table border=\"1\" class=\"dataframe\">\n",
       "  <thead>\n",
       "    <tr style=\"text-align: right;\">\n",
       "      <th></th>\n",
       "      <th>PRIMARY_KEY</th>\n",
       "      <th>STATE</th>\n",
       "      <th>YEAR</th>\n",
       "      <th>ENROLL</th>\n",
       "      <th>TOTAL_REVENUE</th>\n",
       "      <th>FEDERAL_REVENUE</th>\n",
       "      <th>STATE_REVENUE</th>\n",
       "      <th>LOCAL_REVENUE</th>\n",
       "      <th>TOTAL_EXPENDITURE</th>\n",
       "      <th>INSTRUCTION_EXPENDITURE</th>\n",
       "      <th>...</th>\n",
       "      <th>GRADES_4_G</th>\n",
       "      <th>GRADES_8_G</th>\n",
       "      <th>GRADES_12_G</th>\n",
       "      <th>GRADES_1_8_G</th>\n",
       "      <th>GRADES_9_12_G</th>\n",
       "      <th>GRADES_ALL_G</th>\n",
       "      <th>AVG_MATH_4_SCORE</th>\n",
       "      <th>AVG_MATH_8_SCORE</th>\n",
       "      <th>AVG_READING_4_SCORE</th>\n",
       "      <th>AVG_READING_8_SCORE</th>\n",
       "    </tr>\n",
       "  </thead>\n",
       "  <tbody>\n",
       "    <tr>\n",
       "      <th>0</th>\n",
       "      <td>1992_ALABAMA</td>\n",
       "      <td>ALABAMA</td>\n",
       "      <td>1992</td>\n",
       "      <td>NaN</td>\n",
       "      <td>2678885.0</td>\n",
       "      <td>304177.0</td>\n",
       "      <td>1659028.0</td>\n",
       "      <td>715680.0</td>\n",
       "      <td>2653798.0</td>\n",
       "      <td>1481703.0</td>\n",
       "      <td>...</td>\n",
       "      <td>57948.0</td>\n",
       "      <td>58025.0</td>\n",
       "      <td>41167.0</td>\n",
       "      <td>NaN</td>\n",
       "      <td>NaN</td>\n",
       "      <td>731634.0</td>\n",
       "      <td>208.0</td>\n",
       "      <td>252.0</td>\n",
       "      <td>207.0</td>\n",
       "      <td>NaN</td>\n",
       "    </tr>\n",
       "    <tr>\n",
       "      <th>1</th>\n",
       "      <td>1992_ALASKA</td>\n",
       "      <td>ALASKA</td>\n",
       "      <td>1992</td>\n",
       "      <td>NaN</td>\n",
       "      <td>1049591.0</td>\n",
       "      <td>106780.0</td>\n",
       "      <td>720711.0</td>\n",
       "      <td>222100.0</td>\n",
       "      <td>972488.0</td>\n",
       "      <td>498362.0</td>\n",
       "      <td>...</td>\n",
       "      <td>9748.0</td>\n",
       "      <td>8789.0</td>\n",
       "      <td>6714.0</td>\n",
       "      <td>NaN</td>\n",
       "      <td>NaN</td>\n",
       "      <td>122487.0</td>\n",
       "      <td>NaN</td>\n",
       "      <td>NaN</td>\n",
       "      <td>NaN</td>\n",
       "      <td>NaN</td>\n",
       "    </tr>\n",
       "    <tr>\n",
       "      <th>2</th>\n",
       "      <td>1992_ARIZONA</td>\n",
       "      <td>ARIZONA</td>\n",
       "      <td>1992</td>\n",
       "      <td>NaN</td>\n",
       "      <td>3258079.0</td>\n",
       "      <td>297888.0</td>\n",
       "      <td>1369815.0</td>\n",
       "      <td>1590376.0</td>\n",
       "      <td>3401580.0</td>\n",
       "      <td>1435908.0</td>\n",
       "      <td>...</td>\n",
       "      <td>55433.0</td>\n",
       "      <td>49081.0</td>\n",
       "      <td>37410.0</td>\n",
       "      <td>NaN</td>\n",
       "      <td>NaN</td>\n",
       "      <td>673477.0</td>\n",
       "      <td>215.0</td>\n",
       "      <td>265.0</td>\n",
       "      <td>209.0</td>\n",
       "      <td>NaN</td>\n",
       "    </tr>\n",
       "    <tr>\n",
       "      <th>3</th>\n",
       "      <td>1992_ARKANSAS</td>\n",
       "      <td>ARKANSAS</td>\n",
       "      <td>1992</td>\n",
       "      <td>NaN</td>\n",
       "      <td>1711959.0</td>\n",
       "      <td>178571.0</td>\n",
       "      <td>958785.0</td>\n",
       "      <td>574603.0</td>\n",
       "      <td>1743022.0</td>\n",
       "      <td>964323.0</td>\n",
       "      <td>...</td>\n",
       "      <td>34632.0</td>\n",
       "      <td>36011.0</td>\n",
       "      <td>27651.0</td>\n",
       "      <td>NaN</td>\n",
       "      <td>NaN</td>\n",
       "      <td>441490.0</td>\n",
       "      <td>210.0</td>\n",
       "      <td>256.0</td>\n",
       "      <td>211.0</td>\n",
       "      <td>NaN</td>\n",
       "    </tr>\n",
       "    <tr>\n",
       "      <th>4</th>\n",
       "      <td>1992_CALIFORNIA</td>\n",
       "      <td>CALIFORNIA</td>\n",
       "      <td>1992</td>\n",
       "      <td>NaN</td>\n",
       "      <td>26260025.0</td>\n",
       "      <td>2072470.0</td>\n",
       "      <td>16546514.0</td>\n",
       "      <td>7641041.0</td>\n",
       "      <td>27138832.0</td>\n",
       "      <td>14358922.0</td>\n",
       "      <td>...</td>\n",
       "      <td>418418.0</td>\n",
       "      <td>363296.0</td>\n",
       "      <td>270675.0</td>\n",
       "      <td>NaN</td>\n",
       "      <td>NaN</td>\n",
       "      <td>5254844.0</td>\n",
       "      <td>208.0</td>\n",
       "      <td>261.0</td>\n",
       "      <td>202.0</td>\n",
       "      <td>NaN</td>\n",
       "    </tr>\n",
       "    <tr>\n",
       "      <th>...</th>\n",
       "      <td>...</td>\n",
       "      <td>...</td>\n",
       "      <td>...</td>\n",
       "      <td>...</td>\n",
       "      <td>...</td>\n",
       "      <td>...</td>\n",
       "      <td>...</td>\n",
       "      <td>...</td>\n",
       "      <td>...</td>\n",
       "      <td>...</td>\n",
       "      <td>...</td>\n",
       "      <td>...</td>\n",
       "      <td>...</td>\n",
       "      <td>...</td>\n",
       "      <td>...</td>\n",
       "      <td>...</td>\n",
       "      <td>...</td>\n",
       "      <td>...</td>\n",
       "      <td>...</td>\n",
       "      <td>...</td>\n",
       "      <td>...</td>\n",
       "    </tr>\n",
       "    <tr>\n",
       "      <th>1710</th>\n",
       "      <td>2019_VIRGINIA</td>\n",
       "      <td>VIRGINIA</td>\n",
       "      <td>2019</td>\n",
       "      <td>NaN</td>\n",
       "      <td>NaN</td>\n",
       "      <td>NaN</td>\n",
       "      <td>NaN</td>\n",
       "      <td>NaN</td>\n",
       "      <td>NaN</td>\n",
       "      <td>NaN</td>\n",
       "      <td>...</td>\n",
       "      <td>NaN</td>\n",
       "      <td>NaN</td>\n",
       "      <td>NaN</td>\n",
       "      <td>NaN</td>\n",
       "      <td>NaN</td>\n",
       "      <td>NaN</td>\n",
       "      <td>247.0</td>\n",
       "      <td>287.0</td>\n",
       "      <td>224.0</td>\n",
       "      <td>262.0</td>\n",
       "    </tr>\n",
       "    <tr>\n",
       "      <th>1711</th>\n",
       "      <td>2019_WASHINGTON</td>\n",
       "      <td>WASHINGTON</td>\n",
       "      <td>2019</td>\n",
       "      <td>NaN</td>\n",
       "      <td>NaN</td>\n",
       "      <td>NaN</td>\n",
       "      <td>NaN</td>\n",
       "      <td>NaN</td>\n",
       "      <td>NaN</td>\n",
       "      <td>NaN</td>\n",
       "      <td>...</td>\n",
       "      <td>NaN</td>\n",
       "      <td>NaN</td>\n",
       "      <td>NaN</td>\n",
       "      <td>NaN</td>\n",
       "      <td>NaN</td>\n",
       "      <td>NaN</td>\n",
       "      <td>240.0</td>\n",
       "      <td>286.0</td>\n",
       "      <td>220.0</td>\n",
       "      <td>266.0</td>\n",
       "    </tr>\n",
       "    <tr>\n",
       "      <th>1712</th>\n",
       "      <td>2019_WEST_VIRGINIA</td>\n",
       "      <td>WEST_VIRGINIA</td>\n",
       "      <td>2019</td>\n",
       "      <td>NaN</td>\n",
       "      <td>NaN</td>\n",
       "      <td>NaN</td>\n",
       "      <td>NaN</td>\n",
       "      <td>NaN</td>\n",
       "      <td>NaN</td>\n",
       "      <td>NaN</td>\n",
       "      <td>...</td>\n",
       "      <td>NaN</td>\n",
       "      <td>NaN</td>\n",
       "      <td>NaN</td>\n",
       "      <td>NaN</td>\n",
       "      <td>NaN</td>\n",
       "      <td>NaN</td>\n",
       "      <td>231.0</td>\n",
       "      <td>272.0</td>\n",
       "      <td>213.0</td>\n",
       "      <td>256.0</td>\n",
       "    </tr>\n",
       "    <tr>\n",
       "      <th>1713</th>\n",
       "      <td>2019_WISCONSIN</td>\n",
       "      <td>WISCONSIN</td>\n",
       "      <td>2019</td>\n",
       "      <td>NaN</td>\n",
       "      <td>NaN</td>\n",
       "      <td>NaN</td>\n",
       "      <td>NaN</td>\n",
       "      <td>NaN</td>\n",
       "      <td>NaN</td>\n",
       "      <td>NaN</td>\n",
       "      <td>...</td>\n",
       "      <td>NaN</td>\n",
       "      <td>NaN</td>\n",
       "      <td>NaN</td>\n",
       "      <td>NaN</td>\n",
       "      <td>NaN</td>\n",
       "      <td>NaN</td>\n",
       "      <td>242.0</td>\n",
       "      <td>289.0</td>\n",
       "      <td>220.0</td>\n",
       "      <td>267.0</td>\n",
       "    </tr>\n",
       "    <tr>\n",
       "      <th>1714</th>\n",
       "      <td>2019_WYOMING</td>\n",
       "      <td>WYOMING</td>\n",
       "      <td>2019</td>\n",
       "      <td>NaN</td>\n",
       "      <td>NaN</td>\n",
       "      <td>NaN</td>\n",
       "      <td>NaN</td>\n",
       "      <td>NaN</td>\n",
       "      <td>NaN</td>\n",
       "      <td>NaN</td>\n",
       "      <td>...</td>\n",
       "      <td>NaN</td>\n",
       "      <td>NaN</td>\n",
       "      <td>NaN</td>\n",
       "      <td>NaN</td>\n",
       "      <td>NaN</td>\n",
       "      <td>NaN</td>\n",
       "      <td>246.0</td>\n",
       "      <td>286.0</td>\n",
       "      <td>227.0</td>\n",
       "      <td>265.0</td>\n",
       "    </tr>\n",
       "  </tbody>\n",
       "</table>\n",
       "<p>1715 rows × 25 columns</p>\n",
       "</div>"
      ],
      "text/plain": [
       "             PRIMARY_KEY          STATE  YEAR  ENROLL  TOTAL_REVENUE  \\\n",
       "0           1992_ALABAMA        ALABAMA  1992     NaN      2678885.0   \n",
       "1            1992_ALASKA         ALASKA  1992     NaN      1049591.0   \n",
       "2           1992_ARIZONA        ARIZONA  1992     NaN      3258079.0   \n",
       "3          1992_ARKANSAS       ARKANSAS  1992     NaN      1711959.0   \n",
       "4        1992_CALIFORNIA     CALIFORNIA  1992     NaN     26260025.0   \n",
       "...                  ...            ...   ...     ...            ...   \n",
       "1710       2019_VIRGINIA       VIRGINIA  2019     NaN            NaN   \n",
       "1711     2019_WASHINGTON     WASHINGTON  2019     NaN            NaN   \n",
       "1712  2019_WEST_VIRGINIA  WEST_VIRGINIA  2019     NaN            NaN   \n",
       "1713      2019_WISCONSIN      WISCONSIN  2019     NaN            NaN   \n",
       "1714        2019_WYOMING        WYOMING  2019     NaN            NaN   \n",
       "\n",
       "      FEDERAL_REVENUE  STATE_REVENUE  LOCAL_REVENUE  TOTAL_EXPENDITURE  \\\n",
       "0            304177.0      1659028.0       715680.0          2653798.0   \n",
       "1            106780.0       720711.0       222100.0           972488.0   \n",
       "2            297888.0      1369815.0      1590376.0          3401580.0   \n",
       "3            178571.0       958785.0       574603.0          1743022.0   \n",
       "4           2072470.0     16546514.0      7641041.0         27138832.0   \n",
       "...               ...            ...            ...                ...   \n",
       "1710              NaN            NaN            NaN                NaN   \n",
       "1711              NaN            NaN            NaN                NaN   \n",
       "1712              NaN            NaN            NaN                NaN   \n",
       "1713              NaN            NaN            NaN                NaN   \n",
       "1714              NaN            NaN            NaN                NaN   \n",
       "\n",
       "      INSTRUCTION_EXPENDITURE  ...  GRADES_4_G  GRADES_8_G  GRADES_12_G  \\\n",
       "0                   1481703.0  ...     57948.0     58025.0      41167.0   \n",
       "1                    498362.0  ...      9748.0      8789.0       6714.0   \n",
       "2                   1435908.0  ...     55433.0     49081.0      37410.0   \n",
       "3                    964323.0  ...     34632.0     36011.0      27651.0   \n",
       "4                  14358922.0  ...    418418.0    363296.0     270675.0   \n",
       "...                       ...  ...         ...         ...          ...   \n",
       "1710                      NaN  ...         NaN         NaN          NaN   \n",
       "1711                      NaN  ...         NaN         NaN          NaN   \n",
       "1712                      NaN  ...         NaN         NaN          NaN   \n",
       "1713                      NaN  ...         NaN         NaN          NaN   \n",
       "1714                      NaN  ...         NaN         NaN          NaN   \n",
       "\n",
       "      GRADES_1_8_G  GRADES_9_12_G  GRADES_ALL_G  AVG_MATH_4_SCORE  \\\n",
       "0              NaN            NaN      731634.0             208.0   \n",
       "1              NaN            NaN      122487.0               NaN   \n",
       "2              NaN            NaN      673477.0             215.0   \n",
       "3              NaN            NaN      441490.0             210.0   \n",
       "4              NaN            NaN     5254844.0             208.0   \n",
       "...            ...            ...           ...               ...   \n",
       "1710           NaN            NaN           NaN             247.0   \n",
       "1711           NaN            NaN           NaN             240.0   \n",
       "1712           NaN            NaN           NaN             231.0   \n",
       "1713           NaN            NaN           NaN             242.0   \n",
       "1714           NaN            NaN           NaN             246.0   \n",
       "\n",
       "      AVG_MATH_8_SCORE  AVG_READING_4_SCORE  AVG_READING_8_SCORE  \n",
       "0                252.0                207.0                  NaN  \n",
       "1                  NaN                  NaN                  NaN  \n",
       "2                265.0                209.0                  NaN  \n",
       "3                256.0                211.0                  NaN  \n",
       "4                261.0                202.0                  NaN  \n",
       "...                ...                  ...                  ...  \n",
       "1710             287.0                224.0                262.0  \n",
       "1711             286.0                220.0                266.0  \n",
       "1712             272.0                213.0                256.0  \n",
       "1713             289.0                220.0                267.0  \n",
       "1714             286.0                227.0                265.0  \n",
       "\n",
       "[1715 rows x 25 columns]"
      ]
     },
     "execution_count": 3,
     "metadata": {},
     "output_type": "execute_result"
    }
   ],
   "source": [
    "df"
   ]
  },
  {
   "cell_type": "markdown",
   "metadata": {},
   "source": [
    "Chosen test: Math for 8th grade "
   ]
  },
  {
   "cell_type": "markdown",
   "metadata": {},
   "source": [
    "<h2> Cleanup (optional)</h2>\n",
    "\n",
    "_Use this space to rename columns, deal with missing data, etc._"
   ]
  },
  {
   "cell_type": "code",
   "execution_count": 4,
   "metadata": {},
   "outputs": [
    {
     "data": {
      "text/plain": [
       "Index(['primary_key', 'state', 'year', 'enroll', 'total_revenue',\n",
       "       'federal_revenue', 'state_revenue', 'local_revenue',\n",
       "       'total_expenditure', 'instruction_expenditure',\n",
       "       'support_services_expenditure', 'other_expenditure',\n",
       "       'capital_outlay_expenditure', 'grades_pk_g', 'grades_kg_g',\n",
       "       'grades_4_g', 'grades_8_g', 'grades_12_g', 'grades_1_8_g',\n",
       "       'grades_9_12_g', 'grades_all_g', 'avg_math_4_score', 'avg_math_8_score',\n",
       "       'avg_reading_4_score', 'avg_reading_8_score'],\n",
       "      dtype='object')"
      ]
     },
     "execution_count": 4,
     "metadata": {},
     "output_type": "execute_result"
    }
   ],
   "source": [
    "df.columns = df.columns.str.lower()\n",
    "df.columns"
   ]
  },
  {
   "cell_type": "markdown",
   "metadata": {},
   "source": [
    "<h2> Feature Selection </h2>\n",
    "\n",
    "_Use this space to modify or create features_"
   ]
  },
  {
   "cell_type": "code",
<<<<<<< HEAD
   "execution_count": 32,
=======
   "execution_count": 6,
>>>>>>> bc8190474bcdb75e853b843ecef013b618e942f8
   "metadata": {},
   "outputs": [
    {
     "data": {
      "text/html": [
       "<div>\n",
       "<style scoped>\n",
       "    .dataframe tbody tr th:only-of-type {\n",
       "        vertical-align: middle;\n",
       "    }\n",
       "\n",
       "    .dataframe tbody tr th {\n",
       "        vertical-align: top;\n",
       "    }\n",
       "\n",
       "    .dataframe thead th {\n",
       "        text-align: right;\n",
       "    }\n",
       "</style>\n",
       "<table border=\"1\" class=\"dataframe\">\n",
       "  <thead>\n",
       "    <tr style=\"text-align: right;\">\n",
       "      <th></th>\n",
       "      <th>primary_key</th>\n",
       "      <th>state</th>\n",
       "      <th>year</th>\n",
       "      <th>enroll</th>\n",
       "      <th>total_revenue</th>\n",
       "      <th>federal_revenue</th>\n",
       "      <th>state_revenue</th>\n",
       "      <th>local_revenue</th>\n",
       "      <th>total_expenditure</th>\n",
       "      <th>instruction_expenditure</th>\n",
       "      <th>...</th>\n",
<<<<<<< HEAD
=======
       "      <th>grades_4_g</th>\n",
>>>>>>> bc8190474bcdb75e853b843ecef013b618e942f8
       "      <th>grades_8_g</th>\n",
       "      <th>grades_12_g</th>\n",
       "      <th>grades_1_8_g</th>\n",
       "      <th>grades_9_12_g</th>\n",
       "      <th>grades_all_g</th>\n",
       "      <th>avg_math_4_score</th>\n",
       "      <th>avg_math_8_score</th>\n",
       "      <th>avg_reading_4_score</th>\n",
       "      <th>avg_reading_8_score</th>\n",
<<<<<<< HEAD
       "      <th>instruction_expenditure_per_student</th>\n",
=======
>>>>>>> bc8190474bcdb75e853b843ecef013b618e942f8
       "    </tr>\n",
       "  </thead>\n",
       "  <tbody>\n",
       "    <tr>\n",
<<<<<<< HEAD
       "      <th>408</th>\n",
       "      <td>2000_ALABAMA</td>\n",
       "      <td>ALABAMA</td>\n",
       "      <td>2000</td>\n",
       "      <td>730184.0</td>\n",
       "      <td>4885917.0</td>\n",
       "      <td>425978.0</td>\n",
       "      <td>3003814.0</td>\n",
       "      <td>1456125.0</td>\n",
       "      <td>5003267.0</td>\n",
       "      <td>2551713.0</td>\n",
       "      <td>...</td>\n",
       "      <td>56951.0</td>\n",
       "      <td>42512.0</td>\n",
       "      <td>472686.0</td>\n",
       "      <td>201358.0</td>\n",
       "      <td>739992.0</td>\n",
       "      <td>217.0</td>\n",
       "      <td>264.0</td>\n",
       "      <td>NaN</td>\n",
       "      <td>NaN</td>\n",
       "      <td>3.494616</td>\n",
       "    </tr>\n",
       "    <tr>\n",
       "      <th>410</th>\n",
       "      <td>2000_ARIZONA</td>\n",
       "      <td>ARIZONA</td>\n",
       "      <td>2000</td>\n",
       "      <td>814807.0</td>\n",
       "      <td>5479168.0</td>\n",
       "      <td>534619.0</td>\n",
       "      <td>2481089.0</td>\n",
       "      <td>2463460.0</td>\n",
       "      <td>5397194.0</td>\n",
       "      <td>2488932.0</td>\n",
       "      <td>...</td>\n",
       "      <td>65526.0</td>\n",
       "      <td>49501.0</td>\n",
       "      <td>567626.0</td>\n",
       "      <td>236933.0</td>\n",
       "      <td>877696.0</td>\n",
       "      <td>219.0</td>\n",
       "      <td>269.0</td>\n",
       "      <td>NaN</td>\n",
       "      <td>NaN</td>\n",
       "      <td>3.054628</td>\n",
       "    </tr>\n",
       "    <tr>\n",
       "      <th>411</th>\n",
       "      <td>2000_ARKANSAS</td>\n",
       "      <td>ARKANSAS</td>\n",
       "      <td>2000</td>\n",
       "      <td>450751.0</td>\n",
       "      <td>2844855.0</td>\n",
       "      <td>254735.0</td>\n",
       "      <td>2126099.0</td>\n",
       "      <td>464021.0</td>\n",
       "      <td>2683400.0</td>\n",
       "      <td>1531232.0</td>\n",
       "      <td>...</td>\n",
       "      <td>34873.0</td>\n",
       "      <td>28918.0</td>\n",
       "      <td>281091.0</td>\n",
       "      <td>131511.0</td>\n",
       "      <td>449959.0</td>\n",
       "      <td>216.0</td>\n",
       "      <td>257.0</td>\n",
       "      <td>NaN</td>\n",
       "      <td>NaN</td>\n",
       "      <td>3.397068</td>\n",
       "    </tr>\n",
       "    <tr>\n",
       "      <th>412</th>\n",
       "      <td>2000_CALIFORNIA</td>\n",
       "      <td>CALIFORNIA</td>\n",
       "      <td>2000</td>\n",
       "      <td>5941946.0</td>\n",
       "      <td>46628207.0</td>\n",
       "      <td>4024940.0</td>\n",
       "      <td>26877920.0</td>\n",
       "      <td>15725347.0</td>\n",
       "      <td>45829753.0</td>\n",
       "      <td>23514388.0</td>\n",
       "      <td>...</td>\n",
       "      <td>441877.0</td>\n",
       "      <td>357789.0</td>\n",
       "      <td>3804640.0</td>\n",
       "      <td>1707952.0</td>\n",
       "      <td>6140814.0</td>\n",
       "      <td>213.0</td>\n",
       "      <td>260.0</td>\n",
       "      <td>NaN</td>\n",
       "      <td>NaN</td>\n",
       "      <td>3.957355</td>\n",
       "    </tr>\n",
       "    <tr>\n",
       "      <th>414</th>\n",
       "      <td>2000_CONNECTICUT</td>\n",
       "      <td>CONNECTICUT</td>\n",
       "      <td>2000</td>\n",
       "      <td>530363.0</td>\n",
       "      <td>5884078.0</td>\n",
       "      <td>234321.0</td>\n",
       "      <td>2298931.0</td>\n",
       "      <td>3350826.0</td>\n",
       "      <td>5605280.0</td>\n",
       "      <td>3189123.0</td>\n",
       "      <td>...</td>\n",
       "      <td>42597.0</td>\n",
       "      <td>32591.0</td>\n",
       "      <td>354391.0</td>\n",
       "      <td>155734.0</td>\n",
       "      <td>562179.0</td>\n",
       "      <td>234.0</td>\n",
       "      <td>281.0</td>\n",
       "      <td>NaN</td>\n",
       "      <td>NaN</td>\n",
       "      <td>6.013095</td>\n",
=======
       "      <th>0</th>\n",
       "      <td>1992_ALABAMA</td>\n",
       "      <td>ALABAMA</td>\n",
       "      <td>1992</td>\n",
       "      <td>NaN</td>\n",
       "      <td>2678885.0</td>\n",
       "      <td>304177.0</td>\n",
       "      <td>1659028.0</td>\n",
       "      <td>715680.0</td>\n",
       "      <td>2653798.0</td>\n",
       "      <td>1481703.0</td>\n",
       "      <td>...</td>\n",
       "      <td>57948.0</td>\n",
       "      <td>58025.0</td>\n",
       "      <td>41167.0</td>\n",
       "      <td>NaN</td>\n",
       "      <td>NaN</td>\n",
       "      <td>731634.0</td>\n",
       "      <td>208.0</td>\n",
       "      <td>252.0</td>\n",
       "      <td>207.0</td>\n",
       "      <td>NaN</td>\n",
       "    </tr>\n",
       "    <tr>\n",
       "      <th>2</th>\n",
       "      <td>1992_ARIZONA</td>\n",
       "      <td>ARIZONA</td>\n",
       "      <td>1992</td>\n",
       "      <td>NaN</td>\n",
       "      <td>3258079.0</td>\n",
       "      <td>297888.0</td>\n",
       "      <td>1369815.0</td>\n",
       "      <td>1590376.0</td>\n",
       "      <td>3401580.0</td>\n",
       "      <td>1435908.0</td>\n",
       "      <td>...</td>\n",
       "      <td>55433.0</td>\n",
       "      <td>49081.0</td>\n",
       "      <td>37410.0</td>\n",
       "      <td>NaN</td>\n",
       "      <td>NaN</td>\n",
       "      <td>673477.0</td>\n",
       "      <td>215.0</td>\n",
       "      <td>265.0</td>\n",
       "      <td>209.0</td>\n",
       "      <td>NaN</td>\n",
       "    </tr>\n",
       "    <tr>\n",
       "      <th>3</th>\n",
       "      <td>1992_ARKANSAS</td>\n",
       "      <td>ARKANSAS</td>\n",
       "      <td>1992</td>\n",
       "      <td>NaN</td>\n",
       "      <td>1711959.0</td>\n",
       "      <td>178571.0</td>\n",
       "      <td>958785.0</td>\n",
       "      <td>574603.0</td>\n",
       "      <td>1743022.0</td>\n",
       "      <td>964323.0</td>\n",
       "      <td>...</td>\n",
       "      <td>34632.0</td>\n",
       "      <td>36011.0</td>\n",
       "      <td>27651.0</td>\n",
       "      <td>NaN</td>\n",
       "      <td>NaN</td>\n",
       "      <td>441490.0</td>\n",
       "      <td>210.0</td>\n",
       "      <td>256.0</td>\n",
       "      <td>211.0</td>\n",
       "      <td>NaN</td>\n",
       "    </tr>\n",
       "    <tr>\n",
       "      <th>4</th>\n",
       "      <td>1992_CALIFORNIA</td>\n",
       "      <td>CALIFORNIA</td>\n",
       "      <td>1992</td>\n",
       "      <td>NaN</td>\n",
       "      <td>26260025.0</td>\n",
       "      <td>2072470.0</td>\n",
       "      <td>16546514.0</td>\n",
       "      <td>7641041.0</td>\n",
       "      <td>27138832.0</td>\n",
       "      <td>14358922.0</td>\n",
       "      <td>...</td>\n",
       "      <td>418418.0</td>\n",
       "      <td>363296.0</td>\n",
       "      <td>270675.0</td>\n",
       "      <td>NaN</td>\n",
       "      <td>NaN</td>\n",
       "      <td>5254844.0</td>\n",
       "      <td>208.0</td>\n",
       "      <td>261.0</td>\n",
       "      <td>202.0</td>\n",
       "      <td>NaN</td>\n",
       "    </tr>\n",
       "    <tr>\n",
       "      <th>5</th>\n",
       "      <td>1992_COLORADO</td>\n",
       "      <td>COLORADO</td>\n",
       "      <td>1992</td>\n",
       "      <td>NaN</td>\n",
       "      <td>3185173.0</td>\n",
       "      <td>163253.0</td>\n",
       "      <td>1307986.0</td>\n",
       "      <td>1713934.0</td>\n",
       "      <td>3264826.0</td>\n",
       "      <td>1642466.0</td>\n",
       "      <td>...</td>\n",
       "      <td>50648.0</td>\n",
       "      <td>45025.0</td>\n",
       "      <td>34533.0</td>\n",
       "      <td>NaN</td>\n",
       "      <td>NaN</td>\n",
       "      <td>612635.0</td>\n",
       "      <td>221.0</td>\n",
       "      <td>272.0</td>\n",
       "      <td>217.0</td>\n",
       "      <td>NaN</td>\n",
>>>>>>> bc8190474bcdb75e853b843ecef013b618e942f8
       "    </tr>\n",
       "    <tr>\n",
       "      <th>...</th>\n",
       "      <td>...</td>\n",
       "      <td>...</td>\n",
       "      <td>...</td>\n",
       "      <td>...</td>\n",
       "      <td>...</td>\n",
       "      <td>...</td>\n",
       "      <td>...</td>\n",
       "      <td>...</td>\n",
       "      <td>...</td>\n",
       "      <td>...</td>\n",
       "      <td>...</td>\n",
       "      <td>...</td>\n",
       "      <td>...</td>\n",
       "      <td>...</td>\n",
       "      <td>...</td>\n",
       "      <td>...</td>\n",
       "      <td>...</td>\n",
       "      <td>...</td>\n",
       "      <td>...</td>\n",
       "      <td>...</td>\n",
       "      <td>...</td>\n",
       "    </tr>\n",
       "    <tr>\n",
       "      <th>1219</th>\n",
       "      <td>2015_VIRGINIA</td>\n",
       "      <td>VIRGINIA</td>\n",
       "      <td>2015</td>\n",
       "      <td>1279867.0</td>\n",
       "      <td>15857524.0</td>\n",
       "      <td>1012205.0</td>\n",
       "      <td>6240349.0</td>\n",
       "      <td>8604970.0</td>\n",
       "      <td>16113212.0</td>\n",
       "      <td>8755896.0</td>\n",
       "      <td>...</td>\n",
<<<<<<< HEAD
=======
       "      <td>96851.0</td>\n",
>>>>>>> bc8190474bcdb75e853b843ecef013b618e942f8
       "      <td>95221.0</td>\n",
       "      <td>90391.0</td>\n",
       "      <td>772414.0</td>\n",
       "      <td>386781.0</td>\n",
       "      <td>1283590.0</td>\n",
       "      <td>247.0</td>\n",
       "      <td>288.0</td>\n",
       "      <td>229.0</td>\n",
       "      <td>267.0</td>\n",
<<<<<<< HEAD
       "      <td>6.841255</td>\n",
=======
>>>>>>> bc8190474bcdb75e853b843ecef013b618e942f8
       "    </tr>\n",
       "    <tr>\n",
       "      <th>1220</th>\n",
       "      <td>2015_WASHINGTON</td>\n",
       "      <td>WASHINGTON</td>\n",
       "      <td>2015</td>\n",
       "      <td>1072359.0</td>\n",
       "      <td>13709442.0</td>\n",
       "      <td>1036422.0</td>\n",
       "      <td>8293812.0</td>\n",
       "      <td>4379208.0</td>\n",
       "      <td>13630138.0</td>\n",
       "      <td>6508964.0</td>\n",
       "      <td>...</td>\n",
<<<<<<< HEAD
=======
       "      <td>82404.0</td>\n",
>>>>>>> bc8190474bcdb75e853b843ecef013b618e942f8
       "      <td>79483.0</td>\n",
       "      <td>89258.0</td>\n",
       "      <td>656797.0</td>\n",
       "      <td>336808.0</td>\n",
       "      <td>1087030.0</td>\n",
       "      <td>245.0</td>\n",
       "      <td>287.0</td>\n",
       "      <td>226.0</td>\n",
       "      <td>267.0</td>\n",
<<<<<<< HEAD
       "      <td>6.069762</td>\n",
=======
>>>>>>> bc8190474bcdb75e853b843ecef013b618e942f8
       "    </tr>\n",
       "    <tr>\n",
       "      <th>1221</th>\n",
       "      <td>2015_WEST_VIRGINIA</td>\n",
       "      <td>WEST_VIRGINIA</td>\n",
       "      <td>2015</td>\n",
       "      <td>279565.0</td>\n",
       "      <td>3478401.0</td>\n",
       "      <td>362959.0</td>\n",
       "      <td>1979466.0</td>\n",
       "      <td>1135976.0</td>\n",
       "      <td>3466981.0</td>\n",
       "      <td>1819903.0</td>\n",
       "      <td>...</td>\n",
<<<<<<< HEAD
=======
       "      <td>19814.0</td>\n",
>>>>>>> bc8190474bcdb75e853b843ecef013b618e942f8
       "      <td>20426.0</td>\n",
       "      <td>18432.0</td>\n",
       "      <td>162070.0</td>\n",
       "      <td>80142.0</td>\n",
       "      <td>277452.0</td>\n",
       "      <td>235.0</td>\n",
       "      <td>271.0</td>\n",
       "      <td>216.0</td>\n",
       "      <td>260.0</td>\n",
<<<<<<< HEAD
       "      <td>6.509767</td>\n",
=======
>>>>>>> bc8190474bcdb75e853b843ecef013b618e942f8
       "    </tr>\n",
       "    <tr>\n",
       "      <th>1222</th>\n",
       "      <td>2015_WISCONSIN</td>\n",
       "      <td>WISCONSIN</td>\n",
       "      <td>2015</td>\n",
       "      <td>861813.0</td>\n",
       "      <td>11637376.0</td>\n",
       "      <td>814385.0</td>\n",
       "      <td>5869265.0</td>\n",
       "      <td>4953726.0</td>\n",
       "      <td>11553677.0</td>\n",
       "      <td>5723474.0</td>\n",
       "      <td>...</td>\n",
<<<<<<< HEAD
=======
       "      <td>60999.0</td>\n",
>>>>>>> bc8190474bcdb75e853b843ecef013b618e942f8
       "      <td>61084.0</td>\n",
       "      <td>66253.0</td>\n",
       "      <td>489919.0</td>\n",
       "      <td>263896.0</td>\n",
       "      <td>867800.0</td>\n",
       "      <td>243.0</td>\n",
       "      <td>289.0</td>\n",
       "      <td>223.0</td>\n",
       "      <td>270.0</td>\n",
<<<<<<< HEAD
       "      <td>6.641202</td>\n",
=======
>>>>>>> bc8190474bcdb75e853b843ecef013b618e942f8
       "    </tr>\n",
       "    <tr>\n",
       "      <th>1223</th>\n",
       "      <td>2015_WYOMING</td>\n",
       "      <td>WYOMING</td>\n",
       "      <td>2015</td>\n",
       "      <td>93867.0</td>\n",
       "      <td>1962874.0</td>\n",
       "      <td>120290.0</td>\n",
       "      <td>1116917.0</td>\n",
       "      <td>725667.0</td>\n",
       "      <td>1942406.0</td>\n",
       "      <td>895910.0</td>\n",
       "      <td>...</td>\n",
<<<<<<< HEAD
=======
       "      <td>7551.0</td>\n",
>>>>>>> bc8190474bcdb75e853b843ecef013b618e942f8
       "      <td>6902.0</td>\n",
       "      <td>6299.0</td>\n",
       "      <td>59453.0</td>\n",
       "      <td>26914.0</td>\n",
       "      <td>94717.0</td>\n",
       "      <td>247.0</td>\n",
       "      <td>287.0</td>\n",
       "      <td>228.0</td>\n",
       "      <td>269.0</td>\n",
<<<<<<< HEAD
       "      <td>9.544462</td>\n",
       "    </tr>\n",
       "  </tbody>\n",
       "</table>\n",
       "<p>397 rows × 26 columns</p>\n",
=======
       "    </tr>\n",
       "  </tbody>\n",
       "</table>\n",
       "<p>439 rows × 25 columns</p>\n",
>>>>>>> bc8190474bcdb75e853b843ecef013b618e942f8
       "</div>"
      ],
      "text/plain": [
       "             primary_key          state  year     enroll  total_revenue  \\\n",
<<<<<<< HEAD
       "408         2000_ALABAMA        ALABAMA  2000   730184.0      4885917.0   \n",
       "410         2000_ARIZONA        ARIZONA  2000   814807.0      5479168.0   \n",
       "411        2000_ARKANSAS       ARKANSAS  2000   450751.0      2844855.0   \n",
       "412      2000_CALIFORNIA     CALIFORNIA  2000  5941946.0     46628207.0   \n",
       "414     2000_CONNECTICUT    CONNECTICUT  2000   530363.0      5884078.0   \n",
=======
       "0           1992_ALABAMA        ALABAMA  1992        NaN      2678885.0   \n",
       "2           1992_ARIZONA        ARIZONA  1992        NaN      3258079.0   \n",
       "3          1992_ARKANSAS       ARKANSAS  1992        NaN      1711959.0   \n",
       "4        1992_CALIFORNIA     CALIFORNIA  1992        NaN     26260025.0   \n",
       "5          1992_COLORADO       COLORADO  1992        NaN      3185173.0   \n",
>>>>>>> bc8190474bcdb75e853b843ecef013b618e942f8
       "...                  ...            ...   ...        ...            ...   \n",
       "1219       2015_VIRGINIA       VIRGINIA  2015  1279867.0     15857524.0   \n",
       "1220     2015_WASHINGTON     WASHINGTON  2015  1072359.0     13709442.0   \n",
       "1221  2015_WEST_VIRGINIA  WEST_VIRGINIA  2015   279565.0      3478401.0   \n",
       "1222      2015_WISCONSIN      WISCONSIN  2015   861813.0     11637376.0   \n",
       "1223        2015_WYOMING        WYOMING  2015    93867.0      1962874.0   \n",
       "\n",
       "      federal_revenue  state_revenue  local_revenue  total_expenditure  \\\n",
<<<<<<< HEAD
       "408          425978.0      3003814.0      1456125.0          5003267.0   \n",
       "410          534619.0      2481089.0      2463460.0          5397194.0   \n",
       "411          254735.0      2126099.0       464021.0          2683400.0   \n",
       "412         4024940.0     26877920.0     15725347.0         45829753.0   \n",
       "414          234321.0      2298931.0      3350826.0          5605280.0   \n",
=======
       "0            304177.0      1659028.0       715680.0          2653798.0   \n",
       "2            297888.0      1369815.0      1590376.0          3401580.0   \n",
       "3            178571.0       958785.0       574603.0          1743022.0   \n",
       "4           2072470.0     16546514.0      7641041.0         27138832.0   \n",
       "5            163253.0      1307986.0      1713934.0          3264826.0   \n",
>>>>>>> bc8190474bcdb75e853b843ecef013b618e942f8
       "...               ...            ...            ...                ...   \n",
       "1219        1012205.0      6240349.0      8604970.0         16113212.0   \n",
       "1220        1036422.0      8293812.0      4379208.0         13630138.0   \n",
       "1221         362959.0      1979466.0      1135976.0          3466981.0   \n",
       "1222         814385.0      5869265.0      4953726.0         11553677.0   \n",
       "1223         120290.0      1116917.0       725667.0          1942406.0   \n",
       "\n",
<<<<<<< HEAD
       "      instruction_expenditure  ...  grades_8_g  grades_12_g  grades_1_8_g  \\\n",
       "408                 2551713.0  ...     56951.0      42512.0      472686.0   \n",
       "410                 2488932.0  ...     65526.0      49501.0      567626.0   \n",
       "411                 1531232.0  ...     34873.0      28918.0      281091.0   \n",
       "412                23514388.0  ...    441877.0     357789.0     3804640.0   \n",
       "414                 3189123.0  ...     42597.0      32591.0      354391.0   \n",
       "...                       ...  ...         ...          ...           ...   \n",
       "1219                8755896.0  ...     95221.0      90391.0      772414.0   \n",
       "1220                6508964.0  ...     79483.0      89258.0      656797.0   \n",
       "1221                1819903.0  ...     20426.0      18432.0      162070.0   \n",
       "1222                5723474.0  ...     61084.0      66253.0      489919.0   \n",
       "1223                 895910.0  ...      6902.0       6299.0       59453.0   \n",
       "\n",
       "      grades_9_12_g  grades_all_g  avg_math_4_score  avg_math_8_score  \\\n",
       "408        201358.0      739992.0             217.0             264.0   \n",
       "410        236933.0      877696.0             219.0             269.0   \n",
       "411        131511.0      449959.0             216.0             257.0   \n",
       "412       1707952.0     6140814.0             213.0             260.0   \n",
       "414        155734.0      562179.0             234.0             281.0   \n",
       "...             ...           ...               ...               ...   \n",
       "1219       386781.0     1283590.0             247.0             288.0   \n",
       "1220       336808.0     1087030.0             245.0             287.0   \n",
       "1221        80142.0      277452.0             235.0             271.0   \n",
       "1222       263896.0      867800.0             243.0             289.0   \n",
       "1223        26914.0       94717.0             247.0             287.0   \n",
       "\n",
       "      avg_reading_4_score  avg_reading_8_score  \\\n",
       "408                   NaN                  NaN   \n",
       "410                   NaN                  NaN   \n",
       "411                   NaN                  NaN   \n",
       "412                   NaN                  NaN   \n",
       "414                   NaN                  NaN   \n",
       "...                   ...                  ...   \n",
       "1219                229.0                267.0   \n",
       "1220                226.0                267.0   \n",
       "1221                216.0                260.0   \n",
       "1222                223.0                270.0   \n",
       "1223                228.0                269.0   \n",
       "\n",
       "      instruction_expenditure_per_student  \n",
       "408                              3.494616  \n",
       "410                              3.054628  \n",
       "411                              3.397068  \n",
       "412                              3.957355  \n",
       "414                              6.013095  \n",
       "...                                   ...  \n",
       "1219                             6.841255  \n",
       "1220                             6.069762  \n",
       "1221                             6.509767  \n",
       "1222                             6.641202  \n",
       "1223                             9.544462  \n",
       "\n",
       "[397 rows x 26 columns]"
      ]
     },
     "execution_count": 32,
=======
       "      instruction_expenditure  ...  grades_4_g  grades_8_g  grades_12_g  \\\n",
       "0                   1481703.0  ...     57948.0     58025.0      41167.0   \n",
       "2                   1435908.0  ...     55433.0     49081.0      37410.0   \n",
       "3                    964323.0  ...     34632.0     36011.0      27651.0   \n",
       "4                  14358922.0  ...    418418.0    363296.0     270675.0   \n",
       "5                   1642466.0  ...     50648.0     45025.0      34533.0   \n",
       "...                       ...  ...         ...         ...          ...   \n",
       "1219                8755896.0  ...     96851.0     95221.0      90391.0   \n",
       "1220                6508964.0  ...     82404.0     79483.0      89258.0   \n",
       "1221                1819903.0  ...     19814.0     20426.0      18432.0   \n",
       "1222                5723474.0  ...     60999.0     61084.0      66253.0   \n",
       "1223                 895910.0  ...      7551.0      6902.0       6299.0   \n",
       "\n",
       "      grades_1_8_g  grades_9_12_g  grades_all_g  avg_math_4_score  \\\n",
       "0              NaN            NaN      731634.0             208.0   \n",
       "2              NaN            NaN      673477.0             215.0   \n",
       "3              NaN            NaN      441490.0             210.0   \n",
       "4              NaN            NaN     5254844.0             208.0   \n",
       "5              NaN            NaN      612635.0             221.0   \n",
       "...            ...            ...           ...               ...   \n",
       "1219      772414.0       386781.0     1283590.0             247.0   \n",
       "1220      656797.0       336808.0     1087030.0             245.0   \n",
       "1221      162070.0        80142.0      277452.0             235.0   \n",
       "1222      489919.0       263896.0      867800.0             243.0   \n",
       "1223       59453.0        26914.0       94717.0             247.0   \n",
       "\n",
       "      avg_math_8_score  avg_reading_4_score  avg_reading_8_score  \n",
       "0                252.0                207.0                  NaN  \n",
       "2                265.0                209.0                  NaN  \n",
       "3                256.0                211.0                  NaN  \n",
       "4                261.0                202.0                  NaN  \n",
       "5                272.0                217.0                  NaN  \n",
       "...                ...                  ...                  ...  \n",
       "1219             288.0                229.0                267.0  \n",
       "1220             287.0                226.0                267.0  \n",
       "1221             271.0                216.0                260.0  \n",
       "1222             289.0                223.0                270.0  \n",
       "1223             287.0                228.0                269.0  \n",
       "\n",
       "[439 rows x 25 columns]"
      ]
     },
     "execution_count": 6,
>>>>>>> bc8190474bcdb75e853b843ecef013b618e942f8
     "metadata": {},
     "output_type": "execute_result"
    }
   ],
   "source": [
    "df = df[df['instruction_expenditure'].notna()]\n",
    "df = df[df['state_revenue'].notna()]\n",
    "df = df[df['avg_math_8_score'].notna()]\n",
<<<<<<< HEAD
    "df = df[df['enroll'].notna()]\n",
    "df['instruction_expenditure_per_student'] = df['instruction_expenditure'] / df['enroll']\n",
=======
>>>>>>> bc8190474bcdb75e853b843ecef013b618e942f8
    "df"
   ]
  },
  {
   "cell_type": "markdown",
   "metadata": {},
   "source": [
<<<<<<< HEAD
    "Final feature list: instruction expenditure per student, state revenue, average 8th grade math score"
=======
    "Final feature list: instruction expenditure, state revenue, average 8th grade math score"
>>>>>>> bc8190474bcdb75e853b843ecef013b618e942f8
   ]
  },
  {
   "cell_type": "markdown",
   "metadata": {},
   "source": [
    "Feature selection justification: I initially thought how much a state earns in a year and how much portion of it each state spends in instruction might affect the average math score for 8th graders the most."
   ]
  },
  {
   "cell_type": "markdown",
   "metadata": {},
   "source": [
    "<h2> EDA </h2>"
   ]
  },
  {
   "cell_type": "markdown",
   "metadata": {},
   "source": [
    "Visualization 1"
   ]
  },
  {
   "cell_type": "code",
<<<<<<< HEAD
   "execution_count": 85,
=======
   "execution_count": 18,
>>>>>>> bc8190474bcdb75e853b843ecef013b618e942f8
   "metadata": {},
   "outputs": [
    {
     "data": {
      "text/plain": [
<<<<<<< HEAD
       "<seaborn.axisgrid.FacetGrid at 0x7fb30b2a7c40>"
      ]
     },
     "execution_count": 85,
=======
       "<pandas.core.groupby.generic.DataFrameGroupBy object at 0x7fb310ecec10>"
      ]
     },
     "execution_count": 18,
     "metadata": {},
     "output_type": "execute_result"
    }
   ],
   "source": [
    "df2 = df.groupby('state').state_revenue.mean()\n",
    "df2 = df.groupby('state')\n",
    "df2"
   ]
  },
  {
   "cell_type": "code",
   "execution_count": 17,
   "metadata": {},
   "outputs": [
    {
     "data": {
      "text/plain": [
       "<AxesSubplot:xlabel='state', ylabel='state_revenue'>"
      ]
     },
     "execution_count": 17,
>>>>>>> bc8190474bcdb75e853b843ecef013b618e942f8
     "metadata": {},
     "output_type": "execute_result"
    },
    {
     "data": {
<<<<<<< HEAD
      "image/png": "iVBORw0KGgoAAAANSUhEUgAAAW8AAAFvCAYAAACFPEoUAAAAOXRFWHRTb2Z0d2FyZQBNYXRwbG90bGliIHZlcnNpb24zLjMuNCwgaHR0cHM6Ly9tYXRwbG90bGliLm9yZy8QVMy6AAAACXBIWXMAAAsTAAALEwEAmpwYAABCFElEQVR4nO3de3hU1bk/8O87uU3uhJCECCQQCaCEm0bEtrQVqkUOLWrxemrVesqvFws9aGvbU7Xe2toqLRR7Wqza2vZUtFpvtVQLWm3rLSggCAoiIBgChJCQy+Q26/fHzOzsPbMnszOZPbN38v08Dw+ZyczeaybJu9e8611riVIKRETkLp5UN4CIiAaOwZuIyIUYvImIXIjBm4jIhRi8iYhciMGbiMiFHBe8ReR+ETksItssPPanIrI5+O9dETmehCYSEaWcOK3OW0Q+DqAVwINKqZoBPO/rAGYppb5oW+OIiBzCcT1vpdSLAI7p7xORk0VkvYhsEpGXRGSKyVMvA/DHpDSSiCjF0lPdAIvWAviyUmqXiJwJ4BcA5oW+KSKVACYA2Jii9hERJZXjg7eI5AH4CIBHRCR0d1bYwy4F8CelVG8y20ZElCqOD94IpHaOK6Vm9vOYSwF8LTnNISJKPcflvMMppVoAvC8iFwGABMwIfT+Y/y4C8HKKmkhElHSOC94i8kcEAvFkETkgItcA+E8A14jIFgDbASzWPeVSAA8pp5XNEBHZyHGlgkREFJvjet5ERBSbowYsFyxYoNavX5/qZhAROYVE+4ajet5Hjx5NdROIiFzBUcGbiIisYfAmInIhBm8iIhdi8CYiciEGbyIiF2LwJiJyIQZvIiIXYvAmInIhBm8iIhdi8CYiciFHrW1C5HR+v8LexjY0tPhQVuDF+OJceDxRl59wzLFp6GHwJrLI71dYv/0QVjy8Gb5uP7wZHqy8eCYWTB096CBr57FpaGLahMiivY1tWnAFAF+3Hyse3oy9jW2OPjYNTQzeRBY1tPi04Bri6/bj8Amfo49NQxODN5FFZQVeeDOMfzLeDA9K872OPjYNTQzeRBaNL87FyotnakE2lJceX5zr6GPT0OSoPSxra2tVXV1dqptBFFWoIuTwCR9K8+2pNrHj2ORaUX8BWG1CNAAej6CqJA9VJXmuOjYNPUybEBG5EIM3EZELMXgTEbkQgzcRkQsxeBMRuRCDNxGRCzF4ExG5kO113iKSBqAOwEGl1CK7z0dkJy7bSk6RjEk6ywHsAFCQhHMR2YbLtpKT2Jo2EZGxAP4DwK/tPA9RMnDZVnISu3PePwPwLQD+aA8QkaUiUicidUeOHLG5OUTx47Kt5CS2BW8RWQTgsFJqU3+PU0qtVUrVKqVqS0pK7GoO0aBx2VZyEjt73h8F8FkR2QvgIQDzROT3Np6PyFZctpWcJClLworIJwFcH6vahEvCktNx2VZKMi4JS5QIXLaVnCIpwVsp9QKAF5JxLiKi4YAzLImIXIjBm4jIhRi8iYhciMGbiMiFGLyJiFyIwZuIyIVY502UBFxKlhKNwZvIZlxKluzAtAmRzbiULNmBwZvIZlxKluzA4E1kMy4lS3Zg8CayGZeSJTtwwJLIZh6PYMHU0ZiybC6XkqWEYfAmSgIuJUuJxrQJEZELMXgTEbkQgzcRkQsxeBMRuRCDNxGRCzF4ExG5EIM3EZELMXgTEbkQgzcRkQsxeBMRuRCnxxM5FHffof4weBP1I1UBlLvvUCxMmxBFEQqgC1e/hMvufRULV7+E9dsPwe9Xtp+bu+9QLAzeRFGkMoBy9x2KhcGbKIpUBlDuvkOxMHgTRZHKAMrddygWUcr+/J1VtbW1qq6uLtXNIAKQ+kHD0GApd98Z1qL+wBm8ifrBAEopFvWXjaWCRP3g9mXkVMx5ExG5EHveNGxxBiO5GYM3DUupHowkGiymTWhY4gxGcjsGbxqWOIOR3I7Bm4YlzmAkt2PwpmGJMxjJ7ThgScOSxyNYMHU0piybywk45EoM3jRscQIOuRnTJkRELsTgTUTkQgzeREQuxOBNRORCDN5ERC7E4E1E5EIM3kRELsTgTUTkQgzeREQuxOBNRORCDN5ERC7E4E1E5EIM3kRELsTgTUTkQgzeREQuxOBNRORCtgVvEfGKyGsiskVEtovILXadi4houLFzJ51OAPOUUq0ikgHgnyLyV6XUKzaek4hoWLAteCulFIDW4M2M4D9l1/mIiIYTW3PeIpImIpsBHAbwnFLqVZPHLBWROhGpO3LkiJ3NISIaMmwN3kqpXqXUTABjAcwWkRqTx6xVStUqpWpLSkrsbA4R0ZCRlGoTpdRxAM8DWJCM8xERDXV2VpuUiMiI4NfZAM4BsNOu8xERDSd2VpuUA/itiKQhcJF4WCn1tI3nIyIaNuysNtkKYJZdxyciGs44w5KIyIUYvImIXIjBm4jIhRi8iYhciMGbiMiFGLyJiFyIwZuIyIUYvImIXIjBm4jIhRi8iYhciMGbiMiFGLyJiFzIzlUFiWLy+xX2NrahocWHsgIvxhfnwuORVDeLyPEYvCll/H6F9dsPYcXDm+Hr9sOb4cHKi2diwdTRDOBEMTBtQimzt7FNC9wA4Ov2Y8XDm7G3sS3FLSNyPgZvSpmGFp8WuEN83X4cPuFLUYuI3IPBm1KmrMALb4bxV9Cb4UFpvjdFLSJyDwZvSpnxxblYefFMLYCHct7ji3NT3DIi5+OAJaWMxyNYMHU0piybi8MnfCjNZ7WJHVjRMzQxeFNKeTyCqpI8VJXkpbopQ9JgKnoY9J0tZtpEAj4vIjcFb1eIyGz7m0ZEgxVvRU8o6C9c/RIuu/dVLFz9EtZvPwS/XyWj2WSBlZz3LwCcBeCy4O0TAO6xrUVElDDxVvSwjNP5rATvM5VSXwPgAwClVBOATFtbRUQJEW9FD8s4nc9K8O4WkTQACgBEpASAv/+nEJETxFvRwzJO57MyYLkawJ8BlIrIHQCWAPiera0iooSIt6InFPTDBzpZxukcolTsAQgRmQJgPgABsEEptcOOxtTW1qq6ujo7Dk1EAxSqNmEZZ0pFfcNj9rxFpAJAO4Cn9PcppfYnpm1E5EQs43Q2K2mTvyCQ7xYAXgATALwDYKqN7SIion7EDN5KqWn62yJyGoCv2tYiIiKKacBrmyil3gBwpg1tISIii6zkvFfobnoAnAbgQ9taREREMVnJeefrvu5BIAf+qD3NISIiK6zkvG9JRkOIiMg6K2mTSQCuBzBe/3il1Dz7mkVEycQVBN3HStrkEQC/BPBrAL32NoeIko0bQbuTleDdo5T6X9tbQkQpEW0FwSnL5nKCjoNZKRV8SkS+KiLlIjIy9M/2lhFRQvj9CnuOtOLl945iz5HWiDW5uYKgO1npeV8Z/P+buvsUgKrEN4eIEslKSiS0gqA+gHMFQeeL2fNWSk0w+cfATeQCVjZV4EbQ7mSl2iQHwAoAFUqppSJSDWCyUupp21tHRIPSX0oklM/mRtDuZCVt8gCATQA+Erx9EIEKFAZvIocrzTdPiZTkGVMiXEHQfawMWJ6slPoxgG4AUEq1o581ZonIOdI8wPL51YaUyPL51Ugb8KpG5DRWet5dIpKNvm3QTgbQaWuriCgh6pt9ePDlfbjmY1UQAZQCHnx5H2ZVjMD4Uexlu5mV4P19AOsBjBORPwD4KICrbGwTESVIWYEXTe1duOf53dp9rCQZGqxUmzwL4EIEAvYfAdQqpV6wt1lElAisJBm6rFSbPAXg/wA8qZRqi/V4InIOVpIMXVaGLe4CMBfA2yLyJxFZIiL8zEXkEqFKkjlVo1BVksfAPURYWRL2HwD+ISJpAOYB+BKA+wEU2Nw2IiKKwsqAJYLVJp8BcAkCO+n81s5GERFR/6zkvB8GMBuBipM1AP6hlPL3/ywiIrKTlZ73fQAuU0pxLW8iIoewMmD5EoDviMhaABCRahFZZG+ziMhpYi0tS8nFtU2IKCbutuM8XNuEiGKysrQsJZeV4M21TYiGOe624zxW0iY3g2ubEA1r3G3HefrteYuIB0ARuLYJ0bDGNVKcR5Tqf8RYROqUUrUDPrDIOAAPAihDIOWyVim1qr/n1NbWqrq6uoGeioiSwO9X2NvYxjVSkivqG2wlbfJ3EbkewDoA2uiEUupYjOf1ALhOKfWGiOQD2CQizyml3rbSYiJyFu624yxWgvclwf+/prsv5u7xSql6APXBr0+IyA4AYwAweBMNI6Eee0OLD2UF7LEnipWFqSb0930ROUcp9VyMx4wHMAvAqwNqHRG5Wrz14Qz4sSViJ7s7+/umiOQBeBTAN5RSLSbfXyoidSJSd+TIkQQ0h4icIp768FDAX7j6JVx276tYuPolrN9+iDM6wyQieEe9HIpIBgKB+w9KqcfMHqOUWquUqlVK1ZaUlCSgOUTkFPHUh3NCkDWJCN6ml0MREQQWtdqhlFqZgPMQURxSuSZJqD5cL1Z9OCcEWZOI4B3NRwFcAWCeiGwO/lto4/mIKEyqUxDx1IfHE/CHo5h13jEPIPKYUurCRDSGdd5EibXnSCsWrn4pYmbkM8vmJq3kL7w+vKIoB/ub2qMORnIRLIP467xFJAfAdQAqlFJfEpFqAJOVUk8DQKICNxElXn8piGQFb319uJXAzE2TrbGSNnkAgYWozgrePgjgdttaREQJ47QUhNXBSG6aHBuXhCUawpy2JgkHIxPHygxLLglL5FJOS0FwdcLEsdLz/j6MS8JuAHCDnY0iosRxUgrCaZ8E3MxStYmIFAOYg0C65BWl1FE7GsNqE6Khj6sTDsigqk02KKXmA/iLyX1ERAPC1QkTI2rwFhEvgBwAo0SkCH1XgAIEVgckIqIU6a/n/f8AfAPASQjsHh8K3i0A1tjbLCJKFK7QNzRFDd7BXW9WicjXlVI/T2KbiChBOFtx6LI6YFkD4FQAWj2PUurBRDeGA5ZEieWE6fE0KIMasLwZwCcRCN7PADgPwD8R2J+SiBzMCdPjyR5W6ryXAJgP4JBS6moAMwAU2toqIkoIp02Pp8SxErw7lFJ+AD0iUgDgMIBx9jaLiBKBk2KGLivT4+tEZASAexGoOmkF8LKdjSKixHDa9HhKnAGt5x3cSLhAKbXVjsZwwJKIyCDqVTZm2kRENoS+VkrtVUpt1d9HRETJxxmWREQuNNAZlgrACQCctENElEJR0yZKqVVKqQkA7gAwM/j1AwD2gAOWRGQilTvVDzdWqk2WKKVuFZGPAZgH4C4A/wvgTFtbRkSuwqn4yWWlzrs3+P9/ALhXKfUXAJn2NYmI3Mjq/pSUGFaC90ER+RWASwA8IyJZFp9HRMMI96dMLitB+GIAfwPwaaXUcQAjAXzTzkYRkftwKn5yxQzeSql2pdRjSqldwdv1Sqln7W8aEbkJp+Inl5UBSyKimDgVP7kYvIkoYbg/ZfJw4JGIyIUYvImIXIjBm4jIhRi8iYhciMGbiMiFGLyJiFyIpYJEg+T3K+xtbENDiw9lBaxtpuRg8CYahGSvpMcLBYUwbUI0CMlcSS90oVi4+iVcdu+rWLj6JazffohrZg9TDN5Eg5DMlfS45CrpMXgTDUIyV9Ljkqukx+BNNAjJXEkvkRcKblfmfqKUc35otbW1qq6uLtXNIBqQ0CCi3SvpJWpwlNuVuUrUHwiDN5GLJOJCsedIKxaufsmQgvFmePDMsrlcDdB5ov5wWSpI5CKJWHK1v9w5g7d7MHgTJYGT6rNDufPwnje3K3MXDlgS2cxp9dncrmxoYM6byGZOzDEna5CVBo05b6JUcWKOmduVuR+DN5HN3JBjdlJOnqxhzpvIZk7PMTstJ0/WMOdNlASJyjHb0UN2Yk6eNMx5E6VSInLMfr/CxncasPVAM/wKSBNg2thCzJtcNqgA7sScfDyGW+qHwZvIocKDkQDY1dCKtS/u0aa1L59fjYkleRg/Kv4g64acfCzDcco/c95EDmSWh/6gqR2rNuwyLAm7asMuNLR0DupcTs/JWzEcl8tlz5vIgcyC0aFm8/RGe1fPoM7l8QgWTB2NKcvmurbuezCpH7emWxi8iRzILBid8PWYpjfGFeUM+nxur/uON/Xj5nQL0yZEDqFfYzsnMx2VxdmG7/f6/VhxziRDemPFOZOQnubsIJMM8aZ+3JxuYc+byAHMeoC3n1+Dn2/chX2NHfBmeHDSiBzc8cwOXPOxKogASgFPb/kQM8aOQH2z/R/5nZxe8HgE555ShnVL56C+2YfyQi+mlhfGbJ+bK20YvIkcwKwH+L3Ht2Hd0jno6O5Fab4XSgFN7V245/ndAIDyQi++cFYlrnzgNds/8kdLL5x7Shn2N7WnPKD7/QrP7mgYcPrDzZU2TJsQOUC0HmBHdy/mVI1CVUkeJowypgYuqh0bUX1i10f+aOmFV/Y24vHNB/Gv9xrxxOaD2PhOA/YeHfj2aoPdli3e9IebK21s7XmLyP0AFgE4rJSqsfNcRG5mpQcYXhXS0dVrGvAbWhLzkV+fJunoNj/XoWZfRN35nsOt+MFf37Hc+03EoGG86Q83V9rYnTb5DYA1AB60+TxErhKeP64oysHKi2dGBLBoPUClgAJvhmnAz8lMMzy2p8eP7fXNwVxwNqaWFyA9vf8P3eEBdfn8iabn2n+sPaLu/CdLZmi3Vzy8GVPCptmHv3aPAHeu78vlA4HbU0bnW74IDSb94dZKG1uDt1LqRREZb+c5iNymv/zxM/30AMOf993zJmPZvGqs3rhLO86yedXo7u0LYD09fjy+5SC+9/g2w0Do+TPG9BvAw9MQD9cdwPL51VqaJnCcabj72XcMz/N1+9He2WO4re/9mr32uy+agctnV+Knf39Xu+87C6agsbXTci49lP6wevEbClI+YCkiSwEsBYCKiooUt4bIftHys6GFoKL1AMOf19LZi6e2HDRUn6yr248FNaO152yvb9YCd+hc33t8G6pL8zBjXFHUNoanIeqbfXjw5X347dWzoaBQmh+Yrt/U3mV4njfDgyOtnYbb+t6v2Wt/p+GElnoBgKKcTLR39+KK+60PxLo5/RGvlA9YKqXWKqVqlVK1JSUlqW4Oke36y88O5HmPbjqAS2orcN8/92DNxt247597cMOCUwy9zfooszIbWjr7HSAMpSH0mtq7UJKfpQ2gVpoM9t1+fg0e2fSBdju892v22v0KhvsuPC2+gdhQ+iPUvqEcuAEH9LyJhpt487Phz6tv9mFd3X5DOWF4b7O8MNv0XJnpHm0ZWLOebbQ0hEeAl987qqUywmurJ5fko7o0z5Bf17fH7LWnCQz3iSDqxW2geWkn16YPFoM3UZLFm581e96Ni05FXlYG2rt6TZ8ztbwAt59fY8h533HBNNz85LaInq1+YDE8DVGS58X7ja1YsKov4K+5fBa6epTWnsribHx9XrXhXFYuCtPGFhruCw/mQHy1126e+m6FrZsxiMgfAXwSwCgADQBuVkrdF+3x3IyBhot4N2fQP290gRdv15+IOXFmbGE2djS04FCzD6MLvejq9eOiX74SceyHlp6JOVWjTM9rtmHDsvkTDbnqr509Eff9c09E0A3f1MHstQMwvK7tH57AdY8MLugOkU0mUrMZg1LqMjuPT+RW8Zan6Z+350ir6cDn2itqsfR3dRGBb8a4QBzYc6R1wD1bK7lqq+mOaK89dJ/fr7D7SCuWfrwKfgV4BMhMH3hP2c1T361g2oRokFKVV40WnOr2Hes3JRJP2sZKrhpITLpjb2Mbrv2/NwfdY3bz1HcrUl5tQuRmqdy816wixJvhQa8xnkdUsoTy2c8sm4uHlp6JZ5bNjZmSMJtGHspVh+57astB3H5+zaCnmsdbjWOlzUOp9psbEBMNQirzqmYDcnd+bjp+9/L7OLOqRJut+NSWg3jgqtmDrtSoKMrB/qb2fnPVu4+0antsegSYHscem4l8TxO18XMKcQNiIjukMq9qNjFlbGE2unv9ETMqK8I2bIiV6jG7MKy5fBYmFOdB398Lz8GbpTvWL58Lv0JKZku6deq7FQzeRIOQ6rxqeHDac6TVdEblaRVF/U5RD6/mCJ8JWZSTiV0NfcHZ7DlmF7KinEy8sf84vvvntzhbMsEYvIkGIZG9xEQMfFr5JPD+UfPp+WO+NAft3b0oK/Cisa3T0qxH/UBoWYEXlcXZWDR9jJayyc1M0wJ3tOeZGco95kRh8CYahET1EuOdUBIe8EvzY38S2HeszTTAb3jnMFZv2K3lziuLs7GvsQOAtTLAiqKciEk6d35u+pAu10slVpsQDVIi1tSIZzMBs0qX9xtbcfdFxgqLuy/qm9a+50gr8rLS+61S8XX7ccOjW3Hb4mna40JlgeHP0V8U9je1R6RsQjXl/T3PToPd5MHJ2PMmcoB4Bj73NrZFrIP9yxd247/mnmyY4OJXflz5wGvaXpirLpmJWz47FTc/ud2wlOzvXtlnOHev368tUTu6wItJZQURsx5jLTr1/M7DuHVxDW56wjiAmuYxrpFiRz57qE+PZ/AmcoB4Bj4b2zpxSW2FYT3vlRfPxDfWbY44zjUfq8I9z++Gr9uP5es2Y8WnqrWgP7ksH3c9uxP1zT7Dc3Iy02POetSnbXKDPXr9uT85pRT3PL/LsGztzzfuwuKZY7QUjV0BNdqnmVj5drdg8CZygHgGPjPTPFrgBgLBaeehFtMevIjxdktnr2Ej4yvmVBouAsvnV6OsIEt7jtmsx8ribLSd04sbHt0KX3dgc4jwDRsqRuZgX2OHdq6QUPYiFFAnf30uRBBRU2734K2bMXgTOUA8A59tnZH7SvqV+RR1fW22N8MD/WFDS8vetWQGdjacgEeA6rI8VIzsPyWyaPoYLXADgc0hHt10wNDLbmjxxWyPr9uPHYdacP0jWyyvTmhFqss47cYBSyKHGOjAZ67JwONTWw7ihxf0DTSGcsxPbz2o3V558UxMH1toeMwNC05BzZgCfGxiMc6fOSZiVqTZVPw0T2QFSlN7F+55fjfWbNyNe57fjYfrPsCdn5tuONfy+dV47I0D2nO8GR6823BCO9ai6WMiBj6tbMYQLt7p8W4Z5GTPm8hF9DnmHr8/Yg/LS2orUJSbYchNl+Rn4v4rZ+NIq3Fau9l+meNHmacTzNI6Z1SONPRsH90Uuc/lDQtOwbmnlGHamELDuuCh7dO8GR784IJp+Mnf+vbCTNRmDGafZiqKcgY8s9Spg5wM3kQDkMqdWcx2dH98c+QelqHBwJDQuiDha3UPZBJMtECoD+hN7V2oLsvDX74+13Ch0E+48fsV3m80DnzmZKZFLPma6HSHCp7r2R0NA5pZ6uRBTgZvIous9srsCvBmO7p/4axKQ083vBcLmPdaoy061V+bzWY9RsvTn1wavbzRbP0T/RrkodUJw3PeA521Gv7zCt88wiwwRxvkbGjxad+3+jO1+0LP4E1kkZVe2WA+dsf6Y7eyo7tHzHd01/daw9sYbYAwfEee/oJPaADSymsoysnEhaeN1SpgHt10ABlpYkjjVBTl4LSKon4Hb2OdK/znFb55ROhnqL+wRRvk7O5V/e75afaztDv9wuBNZJGV0rN4P3Zb+WM3CyyhHd31F49YJYfhbTQbILxz/Q509/q1ahKz9sRzEcj3puPqj47HyufeNZQllhd6MX6UsVev7+WHBhH1nxRipUDCf17ZGR7TwFyS13dhM8vt3/m56bjxiYGtz5KM9AuDN5FFVkrP4q0tNvtjv3P9DowZ4UV7V68WsGIFZislh+G933EjsmOWAZoFn3guAmapi1UbduHcU0cbzq/vVZfmBwY59Ssarr2iNmZwDP95eUQiBlSXz69Gmq6Ixuz9a2zr1NZ4CSnKycSRE52WPyVZ/T0YCAZvIousTKSJt7Y4/I+9vNCLS2orcMnaVyJ6sWZVInqxVuQrL/QacuXL50+M3OLMpAwwPPiEt9msSiT8IhAtddHU3ok9RxA1WC+fX42inEzUNwfOqd/qLVr7wn9eHd29eKTOWIf+4Mv7MKtihKHKxuz9078/5YVefOUTVfjXe0fhV4F1X6aFbTqRjBpzBm8ii6z0auNdIjb8j/3C08ZGzJ5c8fBmbTeZwfTeev0wLO/6cF1kiV94GSAQGXyiBaj+LgJmqYvK4mwcbPLh8/e9FjVYr9qwS5viD0SfjKRvX/jPKzsjHWtf3GOY7WkloIb/TK/+SCXaunq1TxCh9k4sydMuAolcKjgaTtIhGoBYE2ni2R8SiJxQ0l/Pd7AOn4g+8Blq81lVxTEnuIS32WwPy9MrigyTe0KpC/1jvr3gFNzwmDFFs2rDLlx42ljDa9dP8X9qy8GIyT9mwVH/85o2pjDmazIT/jOdOqYwYm3zVRt2oaGlM+pzrP4eDAR73jQkpbIeO56NBKL1Eu342G22acJTWw4aBj6B6GWAepnpEjEhSF/n3dzRZZhIZJa62NfYbnqhykrvC/r6Kf2hyT+fmlyK8cU5qG/2obzQi6nlhf3+jAez9rr+Z7pxZ4Npe9u7eqI+xw4M3jTkuGmWnF74ZBa7PnabbZrwkyXT4feriGVa+ws+exvbcNvTb2sXAb8Cfr5hF25cNFUrHSzwZmJd3X4tWJ9VVRyRulhz+SzTFEh1sFY89NpPLc/HR04u1koJY1WbxHqP41U5Mte0vfq1YJKBu8fTkJPKHd0Tya6dz8Pfn/ABTKuB8PW9jXj9/SatV11ZnI0vf3wibnm6b53wNZfPQleP0oLs6ktn4ECTzzCl/6cXz8T7R9sM9y2bV42pJ+UjKyPN9LWn8mec5M4Bd4+n4WOoLAVq18fu8PfHyv6UQGQqKtNjXJJ20fQxWuAOHefa/3sT65fP1SpkcjLTcfdz7xrSJvnedEPvPDTN/yefm4HZVcWWXkPofMn4GTtlg2QGbxpyhvpSoIMV/v5YWQjKrLd590UzYpYK+rr9qG8OBHulgAJvOr716VMMO/KcVlEYsanEsnnV6OrttfwagOT+jJ2wQTKDNw05ySjTcrPw9ye0P2V/gdBsx/kPjrXHLBUMn1peWZyN68+dHLEwlVnP+9NTZ1t+DcPxZ8ycNw1JduWLhwK/X+Gl3YdxoqMXbZ09KMzJQHevH9/8U/Sp8Bt3NuCLvzH+bd6wYDKAvprx2spCXFRbYdgb87bFNVj3+j7U7WsGAHzt7Im475/GKprK4mxcd85kfKufqfjRXscw+Bkz503DixM+1iZDPCWR+4+14e0PTxgGKFecMwl/+vJZaO3sMQ2EuZnpEeWFaQI88O99Wo95Ulk+Hvz3Hvx4yQx0dPYgJysdv/33HpxZVaIFb7PUyr7GDpw0whtz5mi44fIzjobBm6gfqV6/O9bGAX/ddsiQP777opk4r6b/HmtDS2fEAOXK597FjLGzDWt+689fkJ2Or35yoqFXffv5NchMF63s79vnTca8KaPxrT9tMeSu08OmApqlVkbmZg3rQBwPBm8aNga6hrXfr7DxnQZsPdAcdQ2LRLUllKvVL8Z04HgbNu07HvXce460aoEbCATh6x7ZjMllH8PEsvyo527xdZsOLDZ3dGt13uF11MvmT8QTuo0fgMAu8Lctnqatwz12RA6uDwbu0DFXb9yFe6+o1QL2U1sO4ubPTMUtT20ftrnqRGHwpmHB6vKl+jzr/mNt+LDJuJrch00d2H+sLep2YfG0JVQP3dmttGBcWZyNL39iYsT6GdWleej1B0rlTvh6TIPw+0fb0NbVE5x5mI1TyvJxoLlDu1CMzM007f36/Qr/eq8RaQKcMWGkYYAyJzPNtCIkO9ODdUvnoL7ZhzSPmLZne32LYTDyj68a1yAforlq2zF407BgZfnS8NrmxtYu0wWIGlu7MH5U1FMNuC2+bj+2Hmg2TIdfNH2M1jsNPWbVhl2YUl6Ar/x+E3zdfjxwVa1pEM7K8GDDzsPwK2B/Yxt2HT5hvEhdNAMrzpkUsab2/mNtWLNxN7wZHowbmWNYNvbU8gLc+MS2iF71A1edgSvuC6x8aLY6oTfDA6VUxGJQ4VPxw6UyXeUWDN40LFhZvjS8ttnX02u6ANF9V9b2e66B7ogDRC6VGq19b+5v0u4PBd3w9amzM9O0C8Gy+ROxMvwi9cgWLJ9fHbE06udOH6s95lhrZ8Ssy2XzqvG7V/ahvtmnPW7Tvr72mK1OuHx+NU6rHIFl8yca0j/haRL9e1Ze6MXb9Sdct7xBsjF407BgZfnSyuJsZGekaXlfv1+ZBtCuHuN9etGmTut3k8kJVm7oF/iPVmsdfjtTt3PArsOtGF3gNdRMjy7w4p36Fu150dbP7ujujegN66uGu3oV1jy/O6KnrV+W1ZvhQYfu2PXNPvz1rXr86orTcei4DzlZ6bj3xfcwbmSO4dPLyotn9vueWdlrMvS84dw755Kw5HihLbBefu8o9hxphd8/8LkJsZYvDeXAL1n7Ci6791UsXP0SjrV3o7I423CcWAsQRdsR55lt9Vi4+iVcdu+ruGTty7j27Grt2N4MDyaX5WPFOZMM7bv5M1MNy5cun1+NzLS+4HT4RBf+8OpeTCzNx7iibEwszccfXt2L+pbIPSzDb88YO8Jw7BXnTMJjbxzQHtPV6zcN+qFrR2h7sKe3HtS+X17oxXnTyvH/frcJNzz2Fr75py04b1o5PmxqjwjEexvbDO/Znet34JqPVeHaeRMxpjByZ5/Qp6KQUMAPvacLV7+E9dsPxfW74VbseZOjJWoRILP1KPSb3GZnpGm71gCBYHHDo1sNu5qHzj1hVPSP/B3dvRGB56LTx2kTUELHvvGJbfjpxTOxvb4FHgHS0gSF3nRDLzoNCteePRG+Hr+W2vjOeVMMlRtf/sREQ2ne7efX4Ocbd2nnfnRTZCpjxTmT0NHdE7aUaxYy0wPvpzfDg+ljCk17/vMnlxpW9svNStOqcaaU5UdUm6zasAvXnzsJXzt7omHDYX16qrGt0zAYunz+RNMla/UzPpOxR6TTMXiTo1n9I7XyEdpsUkfo9svvHTXt7YXvam5WTqifrVg+IjI9U5KfZXrslo5urNnYl4JY96U5yM3KQFtnDyqKc/DAv95DddkIiARy4JnpgvHFOX2LPGWkYeehFkMQDlWphAY7m9q7MGFUDlZdMgvHO7qQm5mOkoJMXHn/6xGB+a4lM7Cz4QQ8AmRnppnmrxWA4+3dyM5IR0+PH8fbuw35dbPXOSInE3c9axwcHV3QF4gz04wLXD2/87DhNYQuShVFOdpzhsriY4PB4E2OFu2PtKGl/0WTBto7j5YTLyvw9jt55IOmNnx4vFMLNLWVhbj1s1Nxk24yy+gox87J6vvzK8rJxK4jrYaqkNsW16CprRMtnb1IE+C6cydjUkk+Pjzhg1JAR7cfv39lP+ZOKoVIYHuz4+09+OU/dmuDkbmZadh/rMNQWfKDC6ZpW4zp39O2zsBmAr1+4M39x/GHV/dHDGp2dPdi9Ybd2nF+rgu60bYm23/MmDYJ33C4vcv4aeXcqaMjKm2+9/g2zBpXhJNLzTcXDp1rOC0+xpw3OVpOZrppzjYnM027Ha13rs+rAv3nziuKciK28Lr9/BqMLcw2PKerqxdbPmjC+m312PLBcTSe6NKC5bXzJuLKj1Th4eAiS9fOm4hrPlaFfY1tEVt/LZ9fjQNN7dr5L6odG1G6eOMT29Da1Ys1G3fjVy/uwcGmDrx58LiW573ygddw3rRyPPbGAazZuBv3PL8b7xw6ga6evtc1tihHC9yh4373z2/hotq+LcZCbdrf1KEdRwRoau/CPc/v1u5rau9CbzBWho6zaPoY7RiPbjqAZfOMr/PGRafikboDhnP5uv040tp34QgF4pCSPPNPKvuP9f08w8cwhuNkH/a8ydG6ensN22iFSta6e/v+uK18hI7VO993rB0/D1ZThHqaD722Dxkej7a/YmVxNr52djVueqKvd/zjJdNx+exK/PTv7xrapy+pKy/04rsLpxjSGyeN8GLlc+8C6Ns1xuw1pHs82terNuzCXUtmGALxQ6/vx/8sPAU7G04gTYA5VSOR5hEt3REtlVExMkfruYYuJg++vE97TIZHItImodelP46u+AX1zT5s3HkID1x1BvY3tiPXm47RBVloao8cQNX3kMNXCMz1pptX2ujm2TtlTe1UYvCmpImntKs4N8t0udAFNX0fu80+QtdWFiLd48H6bfUoL8xGgTe939z5vmNthh6rCDD/lNGGjXEXTR+jBe7QMXYfbo0oawsvqWtq70JFUQ4qRgb2WyzJy0JLZxduW1yDY23dGJmbgcz0yF3VvRkejNcNjupTG0DgonD57EptkNCb4UHVqDxs2HFIe7+qS/MjyhK9GR4cavZpj/Gme5CXla4FWW+GB+UjsvGDZ3Zqj5lclo+7nt1pSLV4MzyYGaxaCV3cLq6txNW/eV1rz90XzcSay2fh2v9703DR1PeQwwNxZpp5/bo3ve/TVuh5w3k9FAZvSop489Jm+y2GD16F99xqKwtxyRmV+Px9rxqeY5bnDeXOC70ZEZNSblx0quE5ZhNn0j0e055ttu7j/A8vnIZ9x9oNS57eurgG9zy/C/saO+DN8GDVJTNNP2F8eLwvteLN8OCYrhf7n2dWaD3+0HlX/v0dLP34ybjt6be149y8aCp++eJu7VyhihR9QK8szjYMWBZmZ2hpEyBwofjKJ6pwtK1Lm2wzflQufvHCLsOqgt8Kqza57pHN+MvX58ZcMVAfiPcebUVuZprhk0puZhqK8zKj/p4MRwzelBCxetXxlnbtbzJPZ1SX5qG9q1c7l77nlpHmwX/++tWIAa/l86tx5/p3tGPrc+cZaRIxm/K2p9/Gik9Vo9nXq/U+w3ux1WV5pj3m2RNG4s7PTUNuZjoKczLwpQfrDMe+5/lduO7cKXi34QSAwGYHZp8wFs8cox3z7otmIitDtPOZVbEsmj5GC9yhc93y9Hbcf9UZ+KCxHTlZ6VCqN6Ka49IzKnDHMzu0C1VlcTbuuKAG+xrb4VdAQVYacjLTsfavOw0DqgePd2oB/tp55imaI60+zKkaZbmHXDEyFycVteJoW9+F6qSi7KRv8Ot0DN40aFZ61fGWdjW0+AzpjHxvGhbUnKTVZOvPFeq5rd9WHzXPq5+mPSovS8udt3VF1mcX5WRiRG4WVv69r9d/62en4p4X+nqxGWmC7yyYgsb2vh7pyJxMnPB144ZH3wKAiLxzeaEXl9RWGOqzv7NgCpbNm4T/efwtQ8ph6kl9O6aHUg2hXqxfqYgLR5rHfEblK3satSqRGxedit2HmnH/VWfg6IlOlBZk4VcvvGf4VNLVo+D3wzjN/u+RA6pLP16F1RuMMzUHWwHi8QjmTS5D1ai8YZvPtoLBmwbNSq/aamlXeA/+pBHGnc0DU6cjN8ud/PW5WhlZQbb5gFduVrphmvYtn52KkvysqO27qHZsRI77pie3G6Z/52amobPXbzhuYKZkX342KyyffeFpYw11zb5uP364fid+d81s0/RC+AqGoYvUtoPHI3LDp5QXmL52fZXIbU+/jXsuPw1f1OWmb/nsVHx8Ugka27sD72FWmmEhqmjT7KtG5RomDd28aKph9/h4K0CGez7bCgZvGjQrverxxblYc/msiLWx9X/YZj34tVfUGtIZ0YLI/mNtWvAuL8g2HfB691CLIWDe/OR2rPvSHFQWm++JOKk03/Rcm/Y1ab3YB646I6IUb+Vz7+LXX+hbvCq8ciNa77i5vRtnjC+2HLA6unuRk2HMDZ9o78Lt59cYxgjMqkS2HDge8V4s/XiVtqrgbYsjxwjMLgre9DRDqufRN/Zj3dI56OjuHVSPebivW2IFgzdFGOgfjtVedVeP6neBIrMefN2+YxGBznTCS2bfr3JlcS6qy/IMQW1sUaB6Qs/X7cehFh9mBG9npovhOcV5GTF7sfpV9fTHfbu+RXv8SSNycMczOwwVIKaVJQPsoRbnZuH+f7+vTSPv9QP3/OM9/OfsiphVIr3GJsPX7Ueo7N0sJWI2zf77n5mKtDTR9qQM/UynjRkRMQt1IL9PiVoSIdqxh8pFgcGbDOL5w7Gyk7eV1Eq0pVL1gc4siCyfX42ygiztOR6P4JPVpSjJywpuSOBFmkdM641HF3q19oXK2ULyMifHrnXu8ZsG4jkTRuKhpWeiNN8LpRBRuRF+3DsumDbg4D2+OBc3LDjF8L7/4IJp+Mnf3jHUmF8xp9JQxfLDC6bhZxvejXgv9KsK+rr9OLmkbzC2qb0LVaNy8Zurz8DhE52BcseOTkwqyzOkesYWZuOtg8cNG0G8+N6RAe1GFO/gdqzdiYbaUrMM3mQQzx+OlQkTVlIrZj34p7YcxB0XTMP//PktLYiMKQqkRdq6euGRQMWHvhLB71eGLby8GR7cf9XpuHVxjWGCza2La3BKWUHU9rV09uLRTQe0XuwZ44tw0xPbDL3Yp7YcxG2La7T8cOhiUpCdgenjirT26C9uTe1dyM1MMyw6tXrDu5g1bsSAcrxm77snODMyJDRx5vfXnImjrZ0oL8xGehrw5Y9PNOSmV5wzCb1+hWvnTdReV2NrZ2Az4a4ejMjJxIGmdixf1/ee3ra4BmW5Xm26vgB48q0PI6b4Z4VFmVi7EUX7XdkXYz9Ps92JunrUgJeadQsGbzKItyok1gCTldSKWQ9+xTmT8buX3zeusfHv93HjoqlR86pmF6BX9jTh37uPaMEoOzMdD/57D2ori1BVkmfavjQx9pi/fd5kXHpGhaHHfOkZFejo6olYA2RWxQgtOIUHWYHgG+s2Gy4CAOJaVCn8fQ+/UFQWZ+PS2caa9zs/Nx1v7j+KX11xOo63d2NUXiaOnOjEtx97y3BhEyitIsYs8N34xDaMGeHFK+8f01YVDJ/iv+b5Xbj27OqYuxH19Pixvb5Zm8Rk9rvy5gfHtbGGlRfPxKcml2JHQ4v2nDvX7zCce+uBZsO+m9Wl+VFr/QG4LpXC4E0Gdi34YyW1YtaTbGzrRN2+ZtTtazYcr6O717DTuV609EvgOG8a7g8FTLP2TRtbaLjvj6/tx/XnTjbkxSeMysUP/7ojYgZj+PulD7J7jrSap3AKvNhzpLXfIKIPcuWF2ZhaXoD0sGnjn5pcit9fcyYOtfhQlp+FK+5/zRDUbnh0K+6/qhbHWrvh6+pFr19FTPa5KZjz7m+guCgnE+83tve7quCi6WMitk9btWEXHrx6Np7a8iFGF2Rh6uh8PPN2gxb4K4uzIz4l6afv+7r9uP+f76Gts8fwiSd8WQKzfTdDxwk9xpvhQXevwsLVL7kulcLgTQZWgmw8rK5FYdaDH+jFJFovur/jRGsfgIg1wKee1G647VeI+Lje6uvWpuaHB1iz93jN5bNi5mN7evx4fMtBQ1riJ0um45TRBTjS2omygkDOWZ+6MAuoRTmZONDkMwRHsy3O0j0ebR3umpMiSxAvqh1rmBBktqpgtMqaf753VOtF37q4Bn9/+0PDzvQPv74Pv7/mTPT4/RAI7vjL29p+mgAwbUwhlj/0puGisHrjLvx4yQxt4lPlyFz8d9gnsFUbdmkDsaFPITc+8ZYrUykM3mRg54I/8dTuxnMxsdKLjtbzD29faOXB0GCe2WP071dZvheb9jcZ1vK4/fwanD9jjBbAzd5jpYD/+PlL/QaR7fXNhrREIAh34Jt/6pt2/0MLy7Sa1a+bbXFWXZqnBb/vnhc5eFsxMsdw3NCqgvqe7qxxI0wvmvqKnZue2Bax6cWyedU44evC2VNGY+/RVpw3rdxw7ls/W4NJpXnacrih8+8+fEIrd/zJkummF45Z40Zog8mNbZ2GT02hx7hhXXAGb4rgpAkS8VxMrPaiE1Wypn+/tnzQFJH3/d7j21BdmocZwQHM8OcAiLoZhH6QLjwddOFpYyOm9H/nz28ZgrBZQD25xHwFQ/0WZz+4YBp+pMshhw/eKhVIT4XveLNx5yHce0UtPmzuQHZmOg43d5iu2RJed36ouSPiYvL7a84EECiBDH+dNz0Z2Inov3U/m+Xzqw3H3H241fTCUVmcO6hPdk7B4E2OF8/FJNpzBnKceCpv6pvNB3wPNfswY1z0c0Uba9AP0v3q86cbHhNth/nwZVrX1e03LDpVXmh+roml+bh23kQoBXR390T0SPWDt0Bg5cavfXKiYeOJWz9bg1Ub3kHdvubgJKvT8YsXt8WsO/dmGkORr9uvLV0QbRD9vSOtESmRa8+eqD3m4boD+MEF0/DdP/cNxIZ/2rIrTZgMtgZvEVkAYBWANAC/Vkr9yM7zESVSPJU35YXZpoExVE8ejVkQCR+ku+nJbYayyWh5fH2qwpvhwbVnV+NYW6f2mKx0idjtZ9m8avxQtzDVtfMmxqyv/+rZ1fjqH96I6BGvveJ01Df7kJ2ZjrzMdEOFTmVxNr76yYm4WR/wF9fgwX/vMbwf3ozALkaB9povl1sRFmB93X74evoe09TeFVGHHv5py83rgtsWvEUkDcA9AM4BcADA6yLypFLq7USex2kzpqy0J542J/N1Ov1cdr3H4eKpvJlaXhAxPf3282swtbyw33NZKSfc19iBipHZWLd0Dg41+zCmKBuTygpw3SPGXuNHq0Zpjxld6MUpZQU40NxhmEhzrL0La684HU3t3SjNz8K3H9saUb/+wwum4Tu6+vq8rHT89OKZaPF1IzszHe8eajW9uL22t0nbm3PN5bPw4Mv7DOmW9W/V474ra3G0tQsjcjLwxBsHcPmZ47HtQ/MecrOvyzT1cki3XG7oZxP6EYce4+vuRc2Y/uvnnZQmHAg7e96zAexWSu0BABF5CMBiAAkL3nZOo7WrPfG0OZmv0+nnsus9NhPPR+r0dA/OnzEG1aV5WvCcWl5oqDaJxko5YXFuFqpK8rQUzKnlhTilPLLXOGNckSFNEx6c5p5ciu31zejo6oXHg4jdgC6prcCEUX2bHWdnpGHZQ28aUinL5080vbjpA2hxbmZEusWb4cGpY0YYBkeXfWpS1B5yca4X6+rejlgu96ZFUw2fMPQTjcw27RhqROnnxCbywCJLACxQSv1X8PYVAM5USl0b7Tm1tbWqrq7O8jn2HGnV6jNDvBkePJOiMh8r7Ymnzcl8nU4/l13vcTShHnyyP1In8yK650grrv7Na9rAo1LA01sP4oGrZve7jdzPLpmJ/cfaDZsbrzhnEmaPH4mGlsCFKytd8OYHLYa1w2/57FT8QresbqzXZVYiefv5NThpRBZe2dMEvwps1jC2KNtQeeOWeu0YojY+5QOWIrIUwFIAqKioGNBz450NaBcr7Ymnzcl8nU4/l13vcTSp+kidzFys2RopViZQVRTl4IVdhw2TlqpKcjF9bN/CVD09fuw71oG7lsxAW1cPcjPTkev14L4vnIGjbZ2WXle0TzMej2B0QU5YDX6h63LX8bIzeB8EoB9fHxu8z0AptRbAWiDQ8x7ICeyaDRgvK+2Jp83JfJ1OP5dd77ETJevCMZgJVLE2TUhP92D+5DJsr2+OSCNNRL7lNqaneyJSQUBkOsiNuet4xU7Exe91ANUiMkFEMgFcCuDJRJ4glJP0ZvTtF5jKMh8r7Ymnzcl8nU4/l13v8XAXCsyh7cqs9litPC8UeD9dU44Z44os5f8pNtty3gAgIgsB/AyBUsH7lVJ39Pf4gea8gdTlJAfTnnjanMzX6fRz2fUeEzlQ1F9aW4P3QMUTvImIhrCowZufX4iIXIjBm4jIhRi8iYhciMGbiMiFGLyJiFyIwZuIyIUYvImIXIjBm4jIhRi8iYhcyFEzLEXkCIB9MR+YXKMAHE11IwaIbbaf29oLsM3Jksg2H1VKLTD7hqOCtxOJSJ1SqjbV7RgIttl+bmsvwDYnS7LazLQJEZELMXgTEbkQg3dsa1PdgDiwzfZzW3sBtjlZktJm5ryJiFyIPW8iIhdi8CYicqFhHbxFZJyIPC8ib4vIdhFZHvb960REicio4G0RkdUisltEtorIaU5ps4h8X0QOisjm4L+Fuud8J9jmd0Tk005pc/B7XxeRncH7f+z0NovIOt17vFdENrugzTNF5JVgm+tEZHbw/pT+PvfT3hki8rKIvCUiT4lIge45qX6PvSLymohsCbb5luD9E0Tk1WDb1gX37YWIZAVv7w5+f3zCGqOUGrb/AJQDOC34dT6AdwGcGrw9DsDfEJg0NCp430IAf0Vga6I5AF51SpsBfB/A9SaPPxXAFgBZACYAeA9AmkPafDaAvwPICn6v1OltDnvM3QBucnqbATwL4Dzd7/ALTvh97qe9rwP4RPD+LwK4zUHvsQDIC36dAeDV4Hv3MIBLg/f/EsBXgl9/FcAvg19fCmBdotoyrHveSql6pdQbwa9PANgBYEzw2z8F8C0A+hHdxQAeVAGvABghIuUOarOZxQAeUkp1KqXeB7AbwGz7W9qnnzZ/BcCPlFKdwe8ddkGbAQR6rQAuBvBHF7RZAQj1XgsBfKhrc8p+n/tp7yQALwYf9hyAz+nam+r3WCmlWoM3M4L/FIB5AP4UvP+3AM4Pfr04eBvB788P/u4M2rAO3nrBjzOzALwqIosBHFRKbQl72BgAH+huH0D/gdNW+jYH77o2+PH3fhEpCt7n5DZPAjA3+HHyHyJyRvBhTm5zyFwADUqpXcHbTm7zNwD8REQ+AHAXgO8EH+aYNoe1dzsCQQ8ALkLgUzDgkPaKSFowXXYYgYvLewCOK6V6TNqltTn4/WYAxYloB4M3ABHJA/AoAr/kPQC+C+CmVLYpFn2blVItAP4XwMkAZgKoR+AjvaOYtDkdwEgEPnZ+E8DDieqVJIpJm0MuQ1+v21FM2vwVAP+tlBoH4L8B3JfK9oUzae8XAXxVRDYhkE7pSmX7wimlepVSMwGMRaDnPyUV7Rj2wVtEMhD4xfmDUuoxBALgBABbRGQvAj+gN0RkNICD6OsFIPi9g8ltsWmboZRqCP5S+QHci76Pk45tMwI9lMeCH0VfA+BHYFEfJ7cZIpIO4EIA63QPd3KbrwQQ+voROOh3I8rv8k6l1LlKqdMRuEC+55T26imljgN4HsBZCKSc0k3apbU5+P1CAI2JOP+wDt7BXt59AHYopVYCgFLqLaVUqVJqvFJqPAIB5jSl1CEATwL4QnCUfg6AZqVUfarbHLxfn6u8AMC24NdPArg0OOo9AUA1gNeS1d5g20zbDOBxBAYtISKTAGQisBqbk9sMAJ8CsFMpdUB3n5Pb/CGATwS/ngcglOpJ6e9zP7/LpcH/PQC+h8AAYKi9qX6PS0RkRPDrbADnIJCrfx7AkuDDrgTwhK7NVwa/XgJgowqOXg5aokY+3fgPwMcQGGzYCmBz8N/CsMfsRV+1iQC4B4GewFsAap3SZgC/C7Zpa/AXplz3nP8JtvkdBKsOHNLmTAC/R+BC8waAeU5vc/B7vwHwZZPnOLLNwfs3IVCp8SqA053w+9xPe5cjUHnyLoAfITgT3CHv8XQAbwbbvA191UZVCFxIdiPw6SZUQeUN3t4d/H5VotrC6fFERC40rNMmRERuxeBNRORCDN5ERC7E4E1E5EIM3kRELsTgTUTkQgzeNGyJyHd1X48XkW39PT7suabLrBIlC4M3DWffjf2QqH4M4BYVWOPipuDtpNBNw6ZhjMGbbCcij4vIpuDi9UtF5Msi8hPd968SkTXBr28MLrT/TxH5o4hc389xXxCRnwZ7vjtE5AwReUxEdonI7dHOH7zvRwCygz3nPwQfmiYi9wYf92xw+nM00ZZZNWvnJ6RvA4c3RSQ/eP8NEthwYEuwPfoe/VYR+XNodcjga/2ZiNQBWC4ipwdXYtwkIn+TJC9NTA6Q7Oml/Df8/gEYGfw/G4EpxWUAduu+/1cEpkqfgcAUaS8Cq8ntgskGE7rnvQDgzuDXyxEIoOUILNZ/AEBxlPOH7m/VHWs8AitKzgzefhjA5/s59ykA9iOw3OdBAJX9PPYpAB8Nfp2HwGqK5wH4N4CcsDZuRd9GBLcC+Jnutf4i+HVG8LklwduXALg/1T9n/kvuP/a8KRmWicgWAK8gsMLaBAB7RGSOiBQjsKTmvwB8FMATSimfCizO/5SFYz8Z/P8tANtVYIH/TgB70LcCXfj5q6Mc632l1Obg15sQCOjRDGSZ1X8BWCkiywCMUIF1nT8F4AGlVDsAKKWOiUhh8Pv/CD7vtwA+rjtOaBXDyQBqADwngXWlv4fASnY0jDB3RrYSkU8iEKjOUkq1i8gLCPSsH0JgJ5qdAP6slFJxLuXdGfzfr/s6dDu9n/P3dywA6EWgpx7NlQj09oHAwkO/jvZApdSPROQvCCy69C+Jf+/FtuD/gsCF6qw4j0NDAHveZLdCAE3BwDkFgY0XAODPCOyWchkCgRwI9FA/I4FNXvMALLLx/ADQHVxPOh7RllmNICInq8BSw3cisD/jFAR2YLlaRHKCjxmplGoG0CQic4NPvQLAP0wO+Q6AEhE5K/jcDBGZGufrIJdiz5vsth7Al0VkBwJB5xUAUEo1Be87VQU2YoBS6nUReRKBvG8DAqmQZjvOH7QWwFYReQOBpUYH4ksAVgUrP3wAlvbz2G+IyNkIfBrYDuCvSqlOEZkJoE5EugA8g0D1y5UAfhkM6nsAXB1+MKVUl4gsAbA6mGpJB/Cz4LFpmOCSsOQoIpKnlGoNBq8XASxVwU1qiagPe97kNGtF5FQE8tK/ZeAmMseeNzmeiNyDQCWK3iql1ANOOreIXI2+QcyQfymlvmZX+2j4YvAmInIhVpsQEbkQgzcRkQsxeBMRuRCDNxGRC/1/VIR7X/Tbs/cAAAAASUVORK5CYII=\n",
      "text/plain": [
       "<Figure size 360x360 with 1 Axes>"
=======
      "image/png": "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\n",
      "text/plain": [
       "<Figure size 432x288 with 1 Axes>"
>>>>>>> bc8190474bcdb75e853b843ecef013b618e942f8
      ]
     },
     "metadata": {
      "needs_background": "light"
     },
     "output_type": "display_data"
    }
   ],
   "source": [
<<<<<<< HEAD
    "sns.relplot(x='avg_math_8_score', y='state_revenue', data = df)"
=======
    "sns.lineplot(x='state', y=df2, data = df2, color = 'blue')"
>>>>>>> bc8190474bcdb75e853b843ecef013b618e942f8
   ]
  },
  {
   "cell_type": "markdown",
   "metadata": {},
   "source": [
<<<<<<< HEAD
    "The data seem to be clustered, yet there are some obvious outliers."
=======
    "**<CAPTION FOR VIZ 1>**"
>>>>>>> bc8190474bcdb75e853b843ecef013b618e942f8
   ]
  },
  {
   "cell_type": "markdown",
   "metadata": {},
   "source": [
    "Visualization 2"
   ]
  },
  {
   "cell_type": "code",
<<<<<<< HEAD
   "execution_count": 37,
   "metadata": {},
   "outputs": [
    {
     "data": {
      "text/plain": [
       "<seaborn.axisgrid.FacetGrid at 0x7fb30e66fb50>"
      ]
     },
     "execution_count": 37,
     "metadata": {},
     "output_type": "execute_result"
    },
    {
     "data": {
      "image/png": "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\n",
      "text/plain": [
       "<Figure size 360x360 with 1 Axes>"
      ]
     },
     "metadata": {
      "needs_background": "light"
     },
     "output_type": "display_data"
    }
   ],
   "source": [
    "sns.relplot(x='avg_math_8_score', y='instruction_expenditure_per_student', data = df)"
=======
   "execution_count": null,
   "metadata": {},
   "outputs": [],
   "source": [
    "df3 = \n",
    "sns.lineplot(x='state', y=df2, data = df3, color = 'blue')"
>>>>>>> bc8190474bcdb75e853b843ecef013b618e942f8
   ]
  },
  {
   "cell_type": "markdown",
   "metadata": {},
   "source": [
<<<<<<< HEAD
    "It is slightly hard to tell whether it's a linear or exponential relation."
=======
    "**<CAPTION FOR VIZ 2>**"
>>>>>>> bc8190474bcdb75e853b843ecef013b618e942f8
   ]
  },
  {
   "cell_type": "markdown",
   "metadata": {},
   "source": [
    "<h2> Data Creation </h2>\n",
    "\n",
    "_Use this space to create train/test data_"
   ]
  },
  {
   "cell_type": "code",
<<<<<<< HEAD
   "execution_count": 39,
=======
   "execution_count": null,
>>>>>>> bc8190474bcdb75e853b843ecef013b618e942f8
   "metadata": {},
   "outputs": [],
   "source": [
    "from sklearn.model_selection import train_test_split"
   ]
  },
  {
   "cell_type": "code",
<<<<<<< HEAD
   "execution_count": 84,
   "metadata": {},
   "outputs": [],
   "source": [
    "X = df['instruction_expenditure_per_student']\n",
    "y = df['avg_math_8_score']"
=======
   "execution_count": null,
   "metadata": {},
   "outputs": [],
   "source": [
    "X = ??\n",
    "y = ??"
>>>>>>> bc8190474bcdb75e853b843ecef013b618e942f8
   ]
  },
  {
   "cell_type": "code",
<<<<<<< HEAD
   "execution_count": 82,
=======
   "execution_count": null,
>>>>>>> bc8190474bcdb75e853b843ecef013b618e942f8
   "metadata": {},
   "outputs": [],
   "source": [
    "X_train, X_test, y_train, y_test = train_test_split(\n",
<<<<<<< HEAD
    "     X, y, test_size=100, random_state=0)"
=======
    "     X, y, test_size=??, random_state=0)"
>>>>>>> bc8190474bcdb75e853b843ecef013b618e942f8
   ]
  },
  {
   "cell_type": "markdown",
   "metadata": {},
   "source": [
    "<h2> Prediction </h2>"
   ]
  },
  {
   "cell_type": "markdown",
   "metadata": {},
   "source": [
<<<<<<< HEAD
    "Chosen ML task: Regression"
=======
    "Chosen ML task: **<REGRESSION/CLASSIFICATION>**"
>>>>>>> bc8190474bcdb75e853b843ecef013b618e942f8
   ]
  },
  {
   "cell_type": "code",
<<<<<<< HEAD
   "execution_count": 70,
   "metadata": {},
   "outputs": [],
   "source": [
    "# import your sklearn class here\n",
    "from sklearn.linear_model import LinearRegression"
=======
   "execution_count": null,
   "metadata": {},
   "outputs": [],
   "source": [
    "# import your sklearn class here\n"
>>>>>>> bc8190474bcdb75e853b843ecef013b618e942f8
   ]
  },
  {
   "cell_type": "code",
<<<<<<< HEAD
   "execution_count": 71,
=======
   "execution_count": null,
>>>>>>> bc8190474bcdb75e853b843ecef013b618e942f8
   "metadata": {},
   "outputs": [],
   "source": [
    "# create your model here\n",
<<<<<<< HEAD
    "model = LinearRegression()"
=======
    "model = "
>>>>>>> bc8190474bcdb75e853b843ecef013b618e942f8
   ]
  },
  {
   "cell_type": "code",
<<<<<<< HEAD
   "execution_count": 67,
   "metadata": {},
   "outputs": [
    {
     "ename": "ValueError",
     "evalue": "Expected 2D array, got 1D array instead:\narray=[ 6.86659394  6.07708099  4.26076143  6.15701405  9.25209487  4.9121916\n  7.02640151  5.78315302  3.34501849  6.97954911  5.8697296   7.38479764\n  9.54446184  3.45813375  4.17039221  5.1713036  10.48871076  6.72175502\n  6.67711245  4.3719501   6.07098986  4.61473236  4.06615323  6.0360483\n  5.4234238   4.84184521  4.93464042  7.55391372 10.74175956  5.50737501\n  4.00669669  3.05462766  5.03391722  5.72834654  4.12508618  4.28085691\n  4.35545754  5.34014123  5.38490639  4.91537564  5.50202415  6.06681245\n 10.18541647  3.7198318   4.19667873  3.84803176  4.21909223  4.94460392\n  8.67468288  6.0130948   9.37301252  5.77664983  4.6413878   4.57674508\n  4.85707864  4.92641098  4.49761171  6.51687066  6.12851582  4.11672226\n 10.21346945  3.80694889  3.78677244  5.05906402  5.03830881  4.56278566\n  5.1010235   4.92642857  5.69759255  4.57269089  3.46239497  4.47362145\n  9.87871674  5.49830499  5.44461616  6.69270901  4.79584813  5.88326096\n  7.51410911  5.43615479  4.39835709  3.25670606  9.36633585  4.10135327\n  5.22539722  6.24103254  6.03482609  5.51546269  5.38174034  5.23055831\n  5.41807098  9.22570309  5.82739341  3.91343864  5.19403271 10.1181253\n  9.05467206  4.41658218  5.5344338   8.68599233  3.89584511  3.60351453\n  7.58904599  6.14134066  3.79335428  4.95099147  5.32861365  6.25841832\n  6.46022912 13.0513326   4.40139074  5.35895919  5.89923053  4.13409791\n  5.03632587  5.56486751  9.28098768  4.12545107  5.44210157  6.06976209\n  4.58677846 12.67434754  4.09232918  5.07874955  5.52062981  6.27084233\n  6.8412546   4.53470614  8.65000954 11.3541356   4.21736967  5.69289397\n  8.64007868  3.89981559  5.09666268  9.82400018  5.54935455  4.6803012\n 14.7374638   6.23638261  5.49835887  7.54159701  7.38450782  7.97230093\n  4.19903257  5.45353905  7.08168005  4.06070449  5.90524856  4.37944384\n  3.49000355  9.27214965  3.78673268  5.1775018   7.56154617  6.98621722\n  6.74217122  5.21170323  5.71723581  5.24914939  5.37266045  5.24041247\n  6.38556769  4.24703411  6.78522643  7.2607327   7.64558669  4.97877884\n  4.19727346  5.45404865 15.94290322  5.80499196  4.71852262  3.07515725\n  7.96448015  5.01546561  5.68848848  4.83314929 11.57125537  5.46278368\n  3.58349429  3.39706845  9.52981167  5.32685861  5.5141638   7.83493392\n  5.78998262  4.53890923  5.39588822  7.26243989  5.03142385 14.13088311\n  6.35647432  5.14198384  2.83736855  7.81324173  7.66195841  4.98326724\n  3.23133604  5.86881689  4.74766179  9.95636006  6.42798708  3.72193613\n  5.95502801  4.37207646  5.26460514  5.34824214  7.06158053  3.87018959\n  4.55531596  8.23645573  6.17791793  4.2022965   8.4574651   3.87046624\n  3.46542347  6.20395301  8.17670225  4.46751077  6.6346659   6.20813592\n  5.17931095  5.33861777  7.54181328  4.28611319  5.01773767  6.50976696\n  5.22745499 11.54597107  6.25252942  5.97707354  6.51095558  6.82180684\n  7.19478889  5.29396095  5.83827282  5.86504948  7.11675328  4.96616344\n  4.54929664  8.75289686  4.32031603  5.59144889 11.8822824   5.45412158\n  4.07456713  6.43335455  5.51788378  6.94886339  3.05335208  5.47051714\n  5.1615127   3.95735471 10.08504876  4.99500065  4.45256142  4.57326262\n  5.50754526 11.45393248  6.47598031  4.96252459  8.80130494  4.17567974\n  5.48200387  3.53988372 10.10480506  4.81624269  6.31798751  5.57921473\n  5.43348366  4.16119278  5.72774056  6.37759752  4.91564688  6.12846135\n  8.49935758  7.78273824  5.23173921  9.89435121  7.84836365  4.94527092\n  5.04416007  6.66355895  8.96072944  3.42277264  3.92909378  3.49461643\n  7.459746    5.09039418  6.76770136 10.10321191  4.20786909  4.15694001\n  4.58897864  8.79299126  4.92632656  4.07031381  5.82998241  5.4973638\n  5.67905231  7.01125559  5.39581176  6.68929783  6.12584915  8.39461064\n  7.01458429  6.81337907  4.4705723  12.07550645  6.64120175  6.25845839\n  6.10083426  3.12289832  8.45566303  5.62501796  5.53069901  4.1864859\n  4.00154798  7.06575866  4.16710905  5.75964041  4.06862778  6.35180011\n  7.06351195 11.88500018  3.21205767  5.2672356   7.98575288  8.73928939\n  6.25581051  4.37136318  5.04683894  6.52692313  4.85234931  6.28457723\n  4.11364417  4.73692204  8.52175289  5.07350002  5.14645223  5.29314653\n  5.44358903  3.63858994  3.66136105  4.66594636  7.75398491  3.95554965\n  5.34396805  4.78644311  5.26632594 10.66975648  5.80119467  7.36787789\n  4.94668815  5.44573547  5.71335875  8.56465948  3.91490588  9.39114048\n  8.60868816  9.51916125  6.93929396  6.23147522  5.23070327  7.26154246\n 11.42140839  6.4007865   4.5429949   5.14491436  7.31667948  5.0441811\n  7.53148638  4.27023972  7.12581789  6.75553467  5.22488791  6.11367525\n  4.36078547  8.45731937  4.3783653   8.04387794  4.76760635  7.78174613\n  4.91988509  6.05665786  9.71601858].\nReshape your data either using array.reshape(-1, 1) if your data has a single feature or array.reshape(1, -1) if it contains a single sample.",
     "output_type": "error",
     "traceback": [
      "\u001b[0;31m---------------------------------------------------------------------------\u001b[0m",
      "\u001b[0;31mValueError\u001b[0m                                Traceback (most recent call last)",
      "\u001b[0;32m<ipython-input-67-12925b5db335>\u001b[0m in \u001b[0;36m<module>\u001b[0;34m\u001b[0m\n\u001b[0;32m----> 1\u001b[0;31m \u001b[0mmodel\u001b[0m\u001b[0;34m.\u001b[0m\u001b[0mfit\u001b[0m\u001b[0;34m(\u001b[0m\u001b[0mX_train\u001b[0m\u001b[0;34m,\u001b[0m \u001b[0my_train\u001b[0m\u001b[0;34m)\u001b[0m\u001b[0;34m.\u001b[0m\u001b[0mreshape\u001b[0m\u001b[0;34m(\u001b[0m\u001b[0;36m1\u001b[0m\u001b[0;34m,\u001b[0m \u001b[0;34m-\u001b[0m\u001b[0;36m1\u001b[0m\u001b[0;34m)\u001b[0m\u001b[0;34m\u001b[0m\u001b[0;34m\u001b[0m\u001b[0m\n\u001b[0m",
      "\u001b[0;32m/mnt/c/Users/keyle/Desktop/대학교3학년/Winter 2021/MDST/mdst_tutorials/env/lib/python3.8/site-packages/sklearn/linear_model/_base.py\u001b[0m in \u001b[0;36mfit\u001b[0;34m(self, X, y, sample_weight)\u001b[0m\n\u001b[1;32m    516\u001b[0m         \u001b[0maccept_sparse\u001b[0m \u001b[0;34m=\u001b[0m \u001b[0;32mFalse\u001b[0m \u001b[0;32mif\u001b[0m \u001b[0mself\u001b[0m\u001b[0;34m.\u001b[0m\u001b[0mpositive\u001b[0m \u001b[0;32melse\u001b[0m \u001b[0;34m[\u001b[0m\u001b[0;34m'csr'\u001b[0m\u001b[0;34m,\u001b[0m \u001b[0;34m'csc'\u001b[0m\u001b[0;34m,\u001b[0m \u001b[0;34m'coo'\u001b[0m\u001b[0;34m]\u001b[0m\u001b[0;34m\u001b[0m\u001b[0;34m\u001b[0m\u001b[0m\n\u001b[1;32m    517\u001b[0m \u001b[0;34m\u001b[0m\u001b[0m\n\u001b[0;32m--> 518\u001b[0;31m         X, y = self._validate_data(X, y, accept_sparse=accept_sparse,\n\u001b[0m\u001b[1;32m    519\u001b[0m                                    y_numeric=True, multi_output=True)\n\u001b[1;32m    520\u001b[0m \u001b[0;34m\u001b[0m\u001b[0m\n",
      "\u001b[0;32m/mnt/c/Users/keyle/Desktop/대학교3학년/Winter 2021/MDST/mdst_tutorials/env/lib/python3.8/site-packages/sklearn/base.py\u001b[0m in \u001b[0;36m_validate_data\u001b[0;34m(self, X, y, reset, validate_separately, **check_params)\u001b[0m\n\u001b[1;32m    431\u001b[0m                 \u001b[0my\u001b[0m \u001b[0;34m=\u001b[0m \u001b[0mcheck_array\u001b[0m\u001b[0;34m(\u001b[0m\u001b[0my\u001b[0m\u001b[0;34m,\u001b[0m \u001b[0;34m**\u001b[0m\u001b[0mcheck_y_params\u001b[0m\u001b[0;34m)\u001b[0m\u001b[0;34m\u001b[0m\u001b[0;34m\u001b[0m\u001b[0m\n\u001b[1;32m    432\u001b[0m             \u001b[0;32melse\u001b[0m\u001b[0;34m:\u001b[0m\u001b[0;34m\u001b[0m\u001b[0;34m\u001b[0m\u001b[0m\n\u001b[0;32m--> 433\u001b[0;31m                 \u001b[0mX\u001b[0m\u001b[0;34m,\u001b[0m \u001b[0my\u001b[0m \u001b[0;34m=\u001b[0m \u001b[0mcheck_X_y\u001b[0m\u001b[0;34m(\u001b[0m\u001b[0mX\u001b[0m\u001b[0;34m,\u001b[0m \u001b[0my\u001b[0m\u001b[0;34m,\u001b[0m \u001b[0;34m**\u001b[0m\u001b[0mcheck_params\u001b[0m\u001b[0;34m)\u001b[0m\u001b[0;34m\u001b[0m\u001b[0;34m\u001b[0m\u001b[0m\n\u001b[0m\u001b[1;32m    434\u001b[0m             \u001b[0mout\u001b[0m \u001b[0;34m=\u001b[0m \u001b[0mX\u001b[0m\u001b[0;34m,\u001b[0m \u001b[0my\u001b[0m\u001b[0;34m\u001b[0m\u001b[0;34m\u001b[0m\u001b[0m\n\u001b[1;32m    435\u001b[0m \u001b[0;34m\u001b[0m\u001b[0m\n",
      "\u001b[0;32m/mnt/c/Users/keyle/Desktop/대학교3학년/Winter 2021/MDST/mdst_tutorials/env/lib/python3.8/site-packages/sklearn/utils/validation.py\u001b[0m in \u001b[0;36minner_f\u001b[0;34m(*args, **kwargs)\u001b[0m\n\u001b[1;32m     61\u001b[0m             \u001b[0mextra_args\u001b[0m \u001b[0;34m=\u001b[0m \u001b[0mlen\u001b[0m\u001b[0;34m(\u001b[0m\u001b[0margs\u001b[0m\u001b[0;34m)\u001b[0m \u001b[0;34m-\u001b[0m \u001b[0mlen\u001b[0m\u001b[0;34m(\u001b[0m\u001b[0mall_args\u001b[0m\u001b[0;34m)\u001b[0m\u001b[0;34m\u001b[0m\u001b[0;34m\u001b[0m\u001b[0m\n\u001b[1;32m     62\u001b[0m             \u001b[0;32mif\u001b[0m \u001b[0mextra_args\u001b[0m \u001b[0;34m<=\u001b[0m \u001b[0;36m0\u001b[0m\u001b[0;34m:\u001b[0m\u001b[0;34m\u001b[0m\u001b[0;34m\u001b[0m\u001b[0m\n\u001b[0;32m---> 63\u001b[0;31m                 \u001b[0;32mreturn\u001b[0m \u001b[0mf\u001b[0m\u001b[0;34m(\u001b[0m\u001b[0;34m*\u001b[0m\u001b[0margs\u001b[0m\u001b[0;34m,\u001b[0m \u001b[0;34m**\u001b[0m\u001b[0mkwargs\u001b[0m\u001b[0;34m)\u001b[0m\u001b[0;34m\u001b[0m\u001b[0;34m\u001b[0m\u001b[0m\n\u001b[0m\u001b[1;32m     64\u001b[0m \u001b[0;34m\u001b[0m\u001b[0m\n\u001b[1;32m     65\u001b[0m             \u001b[0;31m# extra_args > 0\u001b[0m\u001b[0;34m\u001b[0m\u001b[0;34m\u001b[0m\u001b[0;34m\u001b[0m\u001b[0m\n",
      "\u001b[0;32m/mnt/c/Users/keyle/Desktop/대학교3학년/Winter 2021/MDST/mdst_tutorials/env/lib/python3.8/site-packages/sklearn/utils/validation.py\u001b[0m in \u001b[0;36mcheck_X_y\u001b[0;34m(X, y, accept_sparse, accept_large_sparse, dtype, order, copy, force_all_finite, ensure_2d, allow_nd, multi_output, ensure_min_samples, ensure_min_features, y_numeric, estimator)\u001b[0m\n\u001b[1;32m    812\u001b[0m         \u001b[0;32mraise\u001b[0m \u001b[0mValueError\u001b[0m\u001b[0;34m(\u001b[0m\u001b[0;34m\"y cannot be None\"\u001b[0m\u001b[0;34m)\u001b[0m\u001b[0;34m\u001b[0m\u001b[0;34m\u001b[0m\u001b[0m\n\u001b[1;32m    813\u001b[0m \u001b[0;34m\u001b[0m\u001b[0m\n\u001b[0;32m--> 814\u001b[0;31m     X = check_array(X, accept_sparse=accept_sparse,\n\u001b[0m\u001b[1;32m    815\u001b[0m                     \u001b[0maccept_large_sparse\u001b[0m\u001b[0;34m=\u001b[0m\u001b[0maccept_large_sparse\u001b[0m\u001b[0;34m,\u001b[0m\u001b[0;34m\u001b[0m\u001b[0;34m\u001b[0m\u001b[0m\n\u001b[1;32m    816\u001b[0m                     \u001b[0mdtype\u001b[0m\u001b[0;34m=\u001b[0m\u001b[0mdtype\u001b[0m\u001b[0;34m,\u001b[0m \u001b[0morder\u001b[0m\u001b[0;34m=\u001b[0m\u001b[0morder\u001b[0m\u001b[0;34m,\u001b[0m \u001b[0mcopy\u001b[0m\u001b[0;34m=\u001b[0m\u001b[0mcopy\u001b[0m\u001b[0;34m,\u001b[0m\u001b[0;34m\u001b[0m\u001b[0;34m\u001b[0m\u001b[0m\n",
      "\u001b[0;32m/mnt/c/Users/keyle/Desktop/대학교3학년/Winter 2021/MDST/mdst_tutorials/env/lib/python3.8/site-packages/sklearn/utils/validation.py\u001b[0m in \u001b[0;36minner_f\u001b[0;34m(*args, **kwargs)\u001b[0m\n\u001b[1;32m     61\u001b[0m             \u001b[0mextra_args\u001b[0m \u001b[0;34m=\u001b[0m \u001b[0mlen\u001b[0m\u001b[0;34m(\u001b[0m\u001b[0margs\u001b[0m\u001b[0;34m)\u001b[0m \u001b[0;34m-\u001b[0m \u001b[0mlen\u001b[0m\u001b[0;34m(\u001b[0m\u001b[0mall_args\u001b[0m\u001b[0;34m)\u001b[0m\u001b[0;34m\u001b[0m\u001b[0;34m\u001b[0m\u001b[0m\n\u001b[1;32m     62\u001b[0m             \u001b[0;32mif\u001b[0m \u001b[0mextra_args\u001b[0m \u001b[0;34m<=\u001b[0m \u001b[0;36m0\u001b[0m\u001b[0;34m:\u001b[0m\u001b[0;34m\u001b[0m\u001b[0;34m\u001b[0m\u001b[0m\n\u001b[0;32m---> 63\u001b[0;31m                 \u001b[0;32mreturn\u001b[0m \u001b[0mf\u001b[0m\u001b[0;34m(\u001b[0m\u001b[0;34m*\u001b[0m\u001b[0margs\u001b[0m\u001b[0;34m,\u001b[0m \u001b[0;34m**\u001b[0m\u001b[0mkwargs\u001b[0m\u001b[0;34m)\u001b[0m\u001b[0;34m\u001b[0m\u001b[0;34m\u001b[0m\u001b[0m\n\u001b[0m\u001b[1;32m     64\u001b[0m \u001b[0;34m\u001b[0m\u001b[0m\n\u001b[1;32m     65\u001b[0m             \u001b[0;31m# extra_args > 0\u001b[0m\u001b[0;34m\u001b[0m\u001b[0;34m\u001b[0m\u001b[0;34m\u001b[0m\u001b[0m\n",
      "\u001b[0;32m/mnt/c/Users/keyle/Desktop/대학교3학년/Winter 2021/MDST/mdst_tutorials/env/lib/python3.8/site-packages/sklearn/utils/validation.py\u001b[0m in \u001b[0;36mcheck_array\u001b[0;34m(array, accept_sparse, accept_large_sparse, dtype, order, copy, force_all_finite, ensure_2d, allow_nd, ensure_min_samples, ensure_min_features, estimator)\u001b[0m\n\u001b[1;32m    635\u001b[0m             \u001b[0;31m# If input is 1D raise error\u001b[0m\u001b[0;34m\u001b[0m\u001b[0;34m\u001b[0m\u001b[0;34m\u001b[0m\u001b[0m\n\u001b[1;32m    636\u001b[0m             \u001b[0;32mif\u001b[0m \u001b[0marray\u001b[0m\u001b[0;34m.\u001b[0m\u001b[0mndim\u001b[0m \u001b[0;34m==\u001b[0m \u001b[0;36m1\u001b[0m\u001b[0;34m:\u001b[0m\u001b[0;34m\u001b[0m\u001b[0;34m\u001b[0m\u001b[0m\n\u001b[0;32m--> 637\u001b[0;31m                 raise ValueError(\n\u001b[0m\u001b[1;32m    638\u001b[0m                     \u001b[0;34m\"Expected 2D array, got 1D array instead:\\narray={}.\\n\"\u001b[0m\u001b[0;34m\u001b[0m\u001b[0;34m\u001b[0m\u001b[0m\n\u001b[1;32m    639\u001b[0m                     \u001b[0;34m\"Reshape your data either using array.reshape(-1, 1) if \"\u001b[0m\u001b[0;34m\u001b[0m\u001b[0;34m\u001b[0m\u001b[0m\n",
      "\u001b[0;31mValueError\u001b[0m: Expected 2D array, got 1D array instead:\narray=[ 6.86659394  6.07708099  4.26076143  6.15701405  9.25209487  4.9121916\n  7.02640151  5.78315302  3.34501849  6.97954911  5.8697296   7.38479764\n  9.54446184  3.45813375  4.17039221  5.1713036  10.48871076  6.72175502\n  6.67711245  4.3719501   6.07098986  4.61473236  4.06615323  6.0360483\n  5.4234238   4.84184521  4.93464042  7.55391372 10.74175956  5.50737501\n  4.00669669  3.05462766  5.03391722  5.72834654  4.12508618  4.28085691\n  4.35545754  5.34014123  5.38490639  4.91537564  5.50202415  6.06681245\n 10.18541647  3.7198318   4.19667873  3.84803176  4.21909223  4.94460392\n  8.67468288  6.0130948   9.37301252  5.77664983  4.6413878   4.57674508\n  4.85707864  4.92641098  4.49761171  6.51687066  6.12851582  4.11672226\n 10.21346945  3.80694889  3.78677244  5.05906402  5.03830881  4.56278566\n  5.1010235   4.92642857  5.69759255  4.57269089  3.46239497  4.47362145\n  9.87871674  5.49830499  5.44461616  6.69270901  4.79584813  5.88326096\n  7.51410911  5.43615479  4.39835709  3.25670606  9.36633585  4.10135327\n  5.22539722  6.24103254  6.03482609  5.51546269  5.38174034  5.23055831\n  5.41807098  9.22570309  5.82739341  3.91343864  5.19403271 10.1181253\n  9.05467206  4.41658218  5.5344338   8.68599233  3.89584511  3.60351453\n  7.58904599  6.14134066  3.79335428  4.95099147  5.32861365  6.25841832\n  6.46022912 13.0513326   4.40139074  5.35895919  5.89923053  4.13409791\n  5.03632587  5.56486751  9.28098768  4.12545107  5.44210157  6.06976209\n  4.58677846 12.67434754  4.09232918  5.07874955  5.52062981  6.27084233\n  6.8412546   4.53470614  8.65000954 11.3541356   4.21736967  5.69289397\n  8.64007868  3.89981559  5.09666268  9.82400018  5.54935455  4.6803012\n 14.7374638   6.23638261  5.49835887  7.54159701  7.38450782  7.97230093\n  4.19903257  5.45353905  7.08168005  4.06070449  5.90524856  4.37944384\n  3.49000355  9.27214965  3.78673268  5.1775018   7.56154617  6.98621722\n  6.74217122  5.21170323  5.71723581  5.24914939  5.37266045  5.24041247\n  6.38556769  4.24703411  6.78522643  7.2607327   7.64558669  4.97877884\n  4.19727346  5.45404865 15.94290322  5.80499196  4.71852262  3.07515725\n  7.96448015  5.01546561  5.68848848  4.83314929 11.57125537  5.46278368\n  3.58349429  3.39706845  9.52981167  5.32685861  5.5141638   7.83493392\n  5.78998262  4.53890923  5.39588822  7.26243989  5.03142385 14.13088311\n  6.35647432  5.14198384  2.83736855  7.81324173  7.66195841  4.98326724\n  3.23133604  5.86881689  4.74766179  9.95636006  6.42798708  3.72193613\n  5.95502801  4.37207646  5.26460514  5.34824214  7.06158053  3.87018959\n  4.55531596  8.23645573  6.17791793  4.2022965   8.4574651   3.87046624\n  3.46542347  6.20395301  8.17670225  4.46751077  6.6346659   6.20813592\n  5.17931095  5.33861777  7.54181328  4.28611319  5.01773767  6.50976696\n  5.22745499 11.54597107  6.25252942  5.97707354  6.51095558  6.82180684\n  7.19478889  5.29396095  5.83827282  5.86504948  7.11675328  4.96616344\n  4.54929664  8.75289686  4.32031603  5.59144889 11.8822824   5.45412158\n  4.07456713  6.43335455  5.51788378  6.94886339  3.05335208  5.47051714\n  5.1615127   3.95735471 10.08504876  4.99500065  4.45256142  4.57326262\n  5.50754526 11.45393248  6.47598031  4.96252459  8.80130494  4.17567974\n  5.48200387  3.53988372 10.10480506  4.81624269  6.31798751  5.57921473\n  5.43348366  4.16119278  5.72774056  6.37759752  4.91564688  6.12846135\n  8.49935758  7.78273824  5.23173921  9.89435121  7.84836365  4.94527092\n  5.04416007  6.66355895  8.96072944  3.42277264  3.92909378  3.49461643\n  7.459746    5.09039418  6.76770136 10.10321191  4.20786909  4.15694001\n  4.58897864  8.79299126  4.92632656  4.07031381  5.82998241  5.4973638\n  5.67905231  7.01125559  5.39581176  6.68929783  6.12584915  8.39461064\n  7.01458429  6.81337907  4.4705723  12.07550645  6.64120175  6.25845839\n  6.10083426  3.12289832  8.45566303  5.62501796  5.53069901  4.1864859\n  4.00154798  7.06575866  4.16710905  5.75964041  4.06862778  6.35180011\n  7.06351195 11.88500018  3.21205767  5.2672356   7.98575288  8.73928939\n  6.25581051  4.37136318  5.04683894  6.52692313  4.85234931  6.28457723\n  4.11364417  4.73692204  8.52175289  5.07350002  5.14645223  5.29314653\n  5.44358903  3.63858994  3.66136105  4.66594636  7.75398491  3.95554965\n  5.34396805  4.78644311  5.26632594 10.66975648  5.80119467  7.36787789\n  4.94668815  5.44573547  5.71335875  8.56465948  3.91490588  9.39114048\n  8.60868816  9.51916125  6.93929396  6.23147522  5.23070327  7.26154246\n 11.42140839  6.4007865   4.5429949   5.14491436  7.31667948  5.0441811\n  7.53148638  4.27023972  7.12581789  6.75553467  5.22488791  6.11367525\n  4.36078547  8.45731937  4.3783653   8.04387794  4.76760635  7.78174613\n  4.91988509  6.05665786  9.71601858].\nReshape your data either using array.reshape(-1, 1) if your data has a single feature or array.reshape(1, -1) if it contains a single sample."
     ]
    }
   ],
   "source": [
    "model.fit(X_train, y_train).reshape(1, -1)"
=======
   "execution_count": null,
   "metadata": {},
   "outputs": [],
   "source": [
    "model.fit(X_train, y_train)"
>>>>>>> bc8190474bcdb75e853b843ecef013b618e942f8
   ]
  },
  {
   "cell_type": "code",
<<<<<<< HEAD
   "execution_count": 68,
   "metadata": {},
   "outputs": [
    {
     "ename": "NotFittedError",
     "evalue": "This LinearRegression instance is not fitted yet. Call 'fit' with appropriate arguments before using this estimator.",
     "output_type": "error",
     "traceback": [
      "\u001b[0;31m---------------------------------------------------------------------------\u001b[0m",
      "\u001b[0;31mNotFittedError\u001b[0m                            Traceback (most recent call last)",
      "\u001b[0;32m<ipython-input-68-33f45f2977c2>\u001b[0m in \u001b[0;36m<module>\u001b[0;34m\u001b[0m\n\u001b[0;32m----> 1\u001b[0;31m \u001b[0my_pred\u001b[0m \u001b[0;34m=\u001b[0m \u001b[0mmodel\u001b[0m\u001b[0;34m.\u001b[0m\u001b[0mpredict\u001b[0m\u001b[0;34m(\u001b[0m\u001b[0mX_test\u001b[0m\u001b[0;34m)\u001b[0m\u001b[0;34m\u001b[0m\u001b[0;34m\u001b[0m\u001b[0m\n\u001b[0m",
      "\u001b[0;32m/mnt/c/Users/keyle/Desktop/대학교3학년/Winter 2021/MDST/mdst_tutorials/env/lib/python3.8/site-packages/sklearn/linear_model/_base.py\u001b[0m in \u001b[0;36mpredict\u001b[0;34m(self, X)\u001b[0m\n\u001b[1;32m    236\u001b[0m             \u001b[0mReturns\u001b[0m \u001b[0mpredicted\u001b[0m \u001b[0mvalues\u001b[0m\u001b[0;34m.\u001b[0m\u001b[0;34m\u001b[0m\u001b[0;34m\u001b[0m\u001b[0m\n\u001b[1;32m    237\u001b[0m         \"\"\"\n\u001b[0;32m--> 238\u001b[0;31m         \u001b[0;32mreturn\u001b[0m \u001b[0mself\u001b[0m\u001b[0;34m.\u001b[0m\u001b[0m_decision_function\u001b[0m\u001b[0;34m(\u001b[0m\u001b[0mX\u001b[0m\u001b[0;34m)\u001b[0m\u001b[0;34m\u001b[0m\u001b[0;34m\u001b[0m\u001b[0m\n\u001b[0m\u001b[1;32m    239\u001b[0m \u001b[0;34m\u001b[0m\u001b[0m\n\u001b[1;32m    240\u001b[0m     \u001b[0m_preprocess_data\u001b[0m \u001b[0;34m=\u001b[0m \u001b[0mstaticmethod\u001b[0m\u001b[0;34m(\u001b[0m\u001b[0m_preprocess_data\u001b[0m\u001b[0;34m)\u001b[0m\u001b[0;34m\u001b[0m\u001b[0;34m\u001b[0m\u001b[0m\n",
      "\u001b[0;32m/mnt/c/Users/keyle/Desktop/대학교3학년/Winter 2021/MDST/mdst_tutorials/env/lib/python3.8/site-packages/sklearn/linear_model/_base.py\u001b[0m in \u001b[0;36m_decision_function\u001b[0;34m(self, X)\u001b[0m\n\u001b[1;32m    216\u001b[0m \u001b[0;34m\u001b[0m\u001b[0m\n\u001b[1;32m    217\u001b[0m     \u001b[0;32mdef\u001b[0m \u001b[0m_decision_function\u001b[0m\u001b[0;34m(\u001b[0m\u001b[0mself\u001b[0m\u001b[0;34m,\u001b[0m \u001b[0mX\u001b[0m\u001b[0;34m)\u001b[0m\u001b[0;34m:\u001b[0m\u001b[0;34m\u001b[0m\u001b[0;34m\u001b[0m\u001b[0m\n\u001b[0;32m--> 218\u001b[0;31m         \u001b[0mcheck_is_fitted\u001b[0m\u001b[0;34m(\u001b[0m\u001b[0mself\u001b[0m\u001b[0;34m)\u001b[0m\u001b[0;34m\u001b[0m\u001b[0;34m\u001b[0m\u001b[0m\n\u001b[0m\u001b[1;32m    219\u001b[0m \u001b[0;34m\u001b[0m\u001b[0m\n\u001b[1;32m    220\u001b[0m         \u001b[0mX\u001b[0m \u001b[0;34m=\u001b[0m \u001b[0mcheck_array\u001b[0m\u001b[0;34m(\u001b[0m\u001b[0mX\u001b[0m\u001b[0;34m,\u001b[0m \u001b[0maccept_sparse\u001b[0m\u001b[0;34m=\u001b[0m\u001b[0;34m[\u001b[0m\u001b[0;34m'csr'\u001b[0m\u001b[0;34m,\u001b[0m \u001b[0;34m'csc'\u001b[0m\u001b[0;34m,\u001b[0m \u001b[0;34m'coo'\u001b[0m\u001b[0;34m]\u001b[0m\u001b[0;34m)\u001b[0m\u001b[0;34m\u001b[0m\u001b[0;34m\u001b[0m\u001b[0m\n",
      "\u001b[0;32m/mnt/c/Users/keyle/Desktop/대학교3학년/Winter 2021/MDST/mdst_tutorials/env/lib/python3.8/site-packages/sklearn/utils/validation.py\u001b[0m in \u001b[0;36minner_f\u001b[0;34m(*args, **kwargs)\u001b[0m\n\u001b[1;32m     61\u001b[0m             \u001b[0mextra_args\u001b[0m \u001b[0;34m=\u001b[0m \u001b[0mlen\u001b[0m\u001b[0;34m(\u001b[0m\u001b[0margs\u001b[0m\u001b[0;34m)\u001b[0m \u001b[0;34m-\u001b[0m \u001b[0mlen\u001b[0m\u001b[0;34m(\u001b[0m\u001b[0mall_args\u001b[0m\u001b[0;34m)\u001b[0m\u001b[0;34m\u001b[0m\u001b[0;34m\u001b[0m\u001b[0m\n\u001b[1;32m     62\u001b[0m             \u001b[0;32mif\u001b[0m \u001b[0mextra_args\u001b[0m \u001b[0;34m<=\u001b[0m \u001b[0;36m0\u001b[0m\u001b[0;34m:\u001b[0m\u001b[0;34m\u001b[0m\u001b[0;34m\u001b[0m\u001b[0m\n\u001b[0;32m---> 63\u001b[0;31m                 \u001b[0;32mreturn\u001b[0m \u001b[0mf\u001b[0m\u001b[0;34m(\u001b[0m\u001b[0;34m*\u001b[0m\u001b[0margs\u001b[0m\u001b[0;34m,\u001b[0m \u001b[0;34m**\u001b[0m\u001b[0mkwargs\u001b[0m\u001b[0;34m)\u001b[0m\u001b[0;34m\u001b[0m\u001b[0;34m\u001b[0m\u001b[0m\n\u001b[0m\u001b[1;32m     64\u001b[0m \u001b[0;34m\u001b[0m\u001b[0m\n\u001b[1;32m     65\u001b[0m             \u001b[0;31m# extra_args > 0\u001b[0m\u001b[0;34m\u001b[0m\u001b[0;34m\u001b[0m\u001b[0;34m\u001b[0m\u001b[0m\n",
      "\u001b[0;32m/mnt/c/Users/keyle/Desktop/대학교3학년/Winter 2021/MDST/mdst_tutorials/env/lib/python3.8/site-packages/sklearn/utils/validation.py\u001b[0m in \u001b[0;36mcheck_is_fitted\u001b[0;34m(estimator, attributes, msg, all_or_any)\u001b[0m\n\u001b[1;32m   1039\u001b[0m \u001b[0;34m\u001b[0m\u001b[0m\n\u001b[1;32m   1040\u001b[0m     \u001b[0;32mif\u001b[0m \u001b[0;32mnot\u001b[0m \u001b[0mattrs\u001b[0m\u001b[0;34m:\u001b[0m\u001b[0;34m\u001b[0m\u001b[0;34m\u001b[0m\u001b[0m\n\u001b[0;32m-> 1041\u001b[0;31m         \u001b[0;32mraise\u001b[0m \u001b[0mNotFittedError\u001b[0m\u001b[0;34m(\u001b[0m\u001b[0mmsg\u001b[0m \u001b[0;34m%\u001b[0m \u001b[0;34m{\u001b[0m\u001b[0;34m'name'\u001b[0m\u001b[0;34m:\u001b[0m \u001b[0mtype\u001b[0m\u001b[0;34m(\u001b[0m\u001b[0mestimator\u001b[0m\u001b[0;34m)\u001b[0m\u001b[0;34m.\u001b[0m\u001b[0m__name__\u001b[0m\u001b[0;34m}\u001b[0m\u001b[0;34m)\u001b[0m\u001b[0;34m\u001b[0m\u001b[0;34m\u001b[0m\u001b[0m\n\u001b[0m\u001b[1;32m   1042\u001b[0m \u001b[0;34m\u001b[0m\u001b[0m\n\u001b[1;32m   1043\u001b[0m \u001b[0;34m\u001b[0m\u001b[0m\n",
      "\u001b[0;31mNotFittedError\u001b[0m: This LinearRegression instance is not fitted yet. Call 'fit' with appropriate arguments before using this estimator."
     ]
    }
   ],
=======
   "execution_count": null,
   "metadata": {},
   "outputs": [],
>>>>>>> bc8190474bcdb75e853b843ecef013b618e942f8
   "source": [
    "y_pred = model.predict(X_test)"
   ]
  },
  {
   "cell_type": "code",
   "execution_count": null,
   "metadata": {},
   "outputs": [],
   "source": [
    "# FOR CLASSIFICATION ONLY:\n",
    "from sklearn.metrics import plot_confusion_matrix\n",
    "\n",
    "plot_confusion_matrix(model, X_test, y_test,\n",
    "                         cmap=plt.cm.Blues)"
   ]
  },
  {
   "cell_type": "code",
<<<<<<< HEAD
   "execution_count": 46,
   "metadata": {},
   "outputs": [
    {
     "ename": "AttributeError",
     "evalue": "'Series' object has no attribute 'columns'",
     "output_type": "error",
     "traceback": [
      "\u001b[0;31m---------------------------------------------------------------------------\u001b[0m",
      "\u001b[0;31mAttributeError\u001b[0m                            Traceback (most recent call last)",
      "\u001b[0;32m<ipython-input-46-e3c017a622c7>\u001b[0m in \u001b[0;36m<module>\u001b[0;34m\u001b[0m\n\u001b[1;32m      6\u001b[0m \u001b[0;34m\u001b[0m\u001b[0m\n\u001b[1;32m      7\u001b[0m \u001b[0mcol_name\u001b[0m \u001b[0;34m=\u001b[0m\u001b[0;34m\"instruction_expenditure_per_student\"\u001b[0m\u001b[0;34m\u001b[0m\u001b[0;34m\u001b[0m\u001b[0m\n\u001b[0;32m----> 8\u001b[0;31m \u001b[0mcol_index\u001b[0m \u001b[0;34m=\u001b[0m \u001b[0mX_train\u001b[0m\u001b[0;34m.\u001b[0m\u001b[0mcolumns\u001b[0m\u001b[0;34m.\u001b[0m\u001b[0mget_loc\u001b[0m\u001b[0;34m(\u001b[0m\u001b[0mcol_name\u001b[0m\u001b[0;34m)\u001b[0m\u001b[0;34m\u001b[0m\u001b[0;34m\u001b[0m\u001b[0m\n\u001b[0m\u001b[1;32m      9\u001b[0m \u001b[0;34m\u001b[0m\u001b[0m\n\u001b[1;32m     10\u001b[0m \u001b[0mf\u001b[0m \u001b[0;34m=\u001b[0m \u001b[0mplt\u001b[0m\u001b[0;34m.\u001b[0m\u001b[0mfigure\u001b[0m\u001b[0;34m(\u001b[0m\u001b[0mfigsize\u001b[0m\u001b[0;34m=\u001b[0m\u001b[0;34m(\u001b[0m\u001b[0;36m12\u001b[0m\u001b[0;34m,\u001b[0m\u001b[0;36m6\u001b[0m\u001b[0;34m)\u001b[0m\u001b[0;34m)\u001b[0m\u001b[0;34m\u001b[0m\u001b[0;34m\u001b[0m\u001b[0m\n",
      "\u001b[0;32m/mnt/c/Users/keyle/Desktop/대학교3학년/Winter 2021/MDST/mdst_tutorials/env/lib/python3.8/site-packages/pandas/core/generic.py\u001b[0m in \u001b[0;36m__getattr__\u001b[0;34m(self, name)\u001b[0m\n\u001b[1;32m   5460\u001b[0m             \u001b[0;32mif\u001b[0m \u001b[0mself\u001b[0m\u001b[0;34m.\u001b[0m\u001b[0m_info_axis\u001b[0m\u001b[0;34m.\u001b[0m\u001b[0m_can_hold_identifiers_and_holds_name\u001b[0m\u001b[0;34m(\u001b[0m\u001b[0mname\u001b[0m\u001b[0;34m)\u001b[0m\u001b[0;34m:\u001b[0m\u001b[0;34m\u001b[0m\u001b[0;34m\u001b[0m\u001b[0m\n\u001b[1;32m   5461\u001b[0m                 \u001b[0;32mreturn\u001b[0m \u001b[0mself\u001b[0m\u001b[0;34m[\u001b[0m\u001b[0mname\u001b[0m\u001b[0;34m]\u001b[0m\u001b[0;34m\u001b[0m\u001b[0;34m\u001b[0m\u001b[0m\n\u001b[0;32m-> 5462\u001b[0;31m             \u001b[0;32mreturn\u001b[0m \u001b[0mobject\u001b[0m\u001b[0;34m.\u001b[0m\u001b[0m__getattribute__\u001b[0m\u001b[0;34m(\u001b[0m\u001b[0mself\u001b[0m\u001b[0;34m,\u001b[0m \u001b[0mname\u001b[0m\u001b[0;34m)\u001b[0m\u001b[0;34m\u001b[0m\u001b[0;34m\u001b[0m\u001b[0m\n\u001b[0m\u001b[1;32m   5463\u001b[0m \u001b[0;34m\u001b[0m\u001b[0m\n\u001b[1;32m   5464\u001b[0m     \u001b[0;32mdef\u001b[0m \u001b[0m__setattr__\u001b[0m\u001b[0;34m(\u001b[0m\u001b[0mself\u001b[0m\u001b[0;34m,\u001b[0m \u001b[0mname\u001b[0m\u001b[0;34m:\u001b[0m \u001b[0mstr\u001b[0m\u001b[0;34m,\u001b[0m \u001b[0mvalue\u001b[0m\u001b[0;34m)\u001b[0m \u001b[0;34m->\u001b[0m \u001b[0;32mNone\u001b[0m\u001b[0;34m:\u001b[0m\u001b[0;34m\u001b[0m\u001b[0;34m\u001b[0m\u001b[0m\n",
      "\u001b[0;31mAttributeError\u001b[0m: 'Series' object has no attribute 'columns'"
     ]
    }
   ],
=======
   "execution_count": null,
   "metadata": {},
   "outputs": [],
>>>>>>> bc8190474bcdb75e853b843ecef013b618e942f8
   "source": [
    "# FOR REGRESSION ONLY: (pick a single column to visualize results)\n",
    "\n",
    "# Results from this graph _should not_ be used as a part of your results -- it is just here to help with intuition. \n",
    "# Instead, look at the error values and individual intercepts.\n",
    "\n",
    "\n",
<<<<<<< HEAD
    "col_name = 'instruction_expenditure_per_student'\n",
=======
    "col_name = ??\n",
>>>>>>> bc8190474bcdb75e853b843ecef013b618e942f8
    "col_index = X_train.columns.get_loc(col_name)\n",
    "\n",
    "f = plt.figure(figsize=(12,6))\n",
    "plt.scatter(X_train[col_name], y_train, color = \"red\")\n",
    "plt.scatter(X_train[col_name], model.predict(X_train), color = \"green\")\n",
    "plt.scatter(X_test[col_name], model.predict(X_test), color = \"blue\")\n",
    "\n",
    "new_x = np.linspace(X_train[col_name].min(),X_train[col_name].max(),200)\n",
    "intercept = model.predict([X_train.sort_values(col_name).iloc[0]]) - X_train[col_name].min()*model.coef_[col_index]\n",
    "plt.plot(new_x, intercept+new_x*model.coef_[col_index])\n",
    "\n",
    "plt.legend(['controlled model','true training','predicted training','predicted testing'])\n",
    "plt.xlabel(col_name)\n",
<<<<<<< HEAD
    "plt.ylabel('avg_math_8_score')"
=======
    "plt.ylabel(??)"
>>>>>>> bc8190474bcdb75e853b843ecef013b618e942f8
   ]
  },
  {
   "cell_type": "markdown",
   "metadata": {},
   "source": [
    "<h2> Summary </h2>"
   ]
  },
  {
   "cell_type": "markdown",
   "metadata": {},
<<<<<<< HEAD
   "source": []
=======
   "source": [
    "**<WRITE A PARAGRAPH SUMMARIZING YOUR WORK AND FINDINGS\\>**"
   ]
>>>>>>> bc8190474bcdb75e853b843ecef013b618e942f8
  }
 ],
 "metadata": {
  "kernelspec": {
   "display_name": "Python 3",
   "language": "python",
   "name": "python3"
  },
  "language_info": {
   "codemirror_mode": {
    "name": "ipython",
    "version": 3
   },
   "file_extension": ".py",
   "mimetype": "text/x-python",
   "name": "python",
   "nbconvert_exporter": "python",
   "pygments_lexer": "ipython3",
   "version": "3.8.5"
  }
 },
 "nbformat": 4,
 "nbformat_minor": 4
}
